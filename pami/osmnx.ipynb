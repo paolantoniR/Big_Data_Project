{
 "cells": [
  {
   "cell_type": "markdown",
   "metadata": {},
   "source": [
    "# CODICE PER USARE OPEN STREET MAP"
   ]
  },
  {
   "cell_type": "code",
   "execution_count": null,
   "metadata": {},
   "outputs": [],
   "source": [
    "#LIBRARIES NEEDED \n",
    "import pandas as pd\n",
    "import osmnx as ox\n",
    "\n",
    "#per plottare\n",
    "import geopandas as gpd\n",
    "from shapely import wkt\n",
    "import plotly.express as px\n",
    "import matplotlib.pyplot as plt"
   ]
  },
  {
   "cell_type": "code",
   "execution_count": null,
   "metadata": {},
   "outputs": [],
   "source": [
    "# CODICE COMPLETO PER AMENITIES NEL RAGGIO DI 800M\n",
    "\n",
    "FILE_PATH = 'PATH TO YOUR/pdr_processed.csv' \n",
    "df = pd.read_csv(FILE_PATH)\n",
    "\n",
    "# Extract unique latitude and longitude pairs and Convert to a list of tuples\n",
    "unique_coords = df[['station_coordinates_lat', 'station_coordinates_lon']].drop_duplicates()\n",
    "unique_coords_list = list(unique_coords.itertuples(index=False, name=None))\n",
    "\n",
    "# Create an empty DataFrame to store all POI data\n",
    "all_pois = pd.DataFrame()\n",
    "\n",
    "# Function to extract POIs around each charging point\n",
    "def extract_pois(lat, lon, radius=800):\n",
    "    # Define the tags for relevant amenities\n",
    "    tags = {\n",
    "        'amenity': [\n",
    "            'restaurant', 'cafe', 'fast_food', 'pub', 'bar', 'food_court',  # Food & dining\n",
    "            'gym',  # Fitness centers\n",
    "            'supermarket', 'grocery',  # Shopping & groceries\n",
    "            'college', 'research_institute', 'university',  # Educational facilities\n",
    "            'office', 'coworking_space',  # Workplaces\n",
    "            'court_house', 'post_office',  # Public services\n",
    "            'cinema', 'conference_centre', 'events_venue', 'exhibition_centre', 'theatre'  # Arts and entertainment\n",
    "        ],\n",
    "        'shop': ['mall', 'retail', 'department_store'],  # Shopping centers\n",
    "    }\n",
    "    \n",
    "    try:\n",
    "        # Download POIs within the radius using osmnx\n",
    "        poi_data = ox.geometries_from_point((lat, lon), tags=tags, dist=radius)\n",
    "        \n",
    "        # Filter to keep only points and exclude polygons or multipolygons\n",
    "        poi_data = poi_data[poi_data.geometry.type == 'Point']\n",
    "        \n",
    "        # If no points are found, return an empty DataFrame\n",
    "        if poi_data.empty:\n",
    "            return pd.DataFrame()\n",
    "\n",
    "        # Convert to DataFrame and add latitude and longitude columns from geometry\n",
    "        poi_df = pd.DataFrame(poi_data)\n",
    "        poi_df['latitude'] = poi_data.geometry.y\n",
    "        poi_df['longitude'] = poi_data.geometry.x\n",
    "        \n",
    "        # Return the filtered POI DataFrame\n",
    "        return poi_df\n",
    "    \n",
    "    except Exception as e:\n",
    "        print(f\"Error fetching POIs for location ({lat}, {lon}): {e}\")\n",
    "        return pd.DataFrame()  # Return an empty DataFrame if an error occurs\n",
    "\n",
    "# Loop through the list of unique coordinates and extract POIs\n",
    "for lat, lon in unique_coords_list:\n",
    "    pois = extract_pois(lat, lon)\n",
    "    all_pois = pd.concat([all_pois, pois], ignore_index=True)  # Append to the main DataFrame\n",
    "\n",
    "# Save the combined POI data to a CSV file\n",
    "output_file_path = 'extracted_pois.csv'\n",
    "all_pois.to_csv(output_file_path, index=False)\n",
    "print(f\"POI data has been saved to {output_file_path}\")"
   ]
  },
  {
   "cell_type": "code",
   "execution_count": null,
   "metadata": {},
   "outputs": [],
   "source": [
    "FILE_PATH = 'PATH TO YOUR/extracted_pois.csv'\n",
    "extracted_df = pd.read_csv('FILE_PATH')\n",
    "extracted_df = extracted_df[['amenity', 'geometry', 'name']]\n",
    "extracted_df.to_csv(FILE_PATH, index=False)"
   ]
  },
  {
   "cell_type": "code",
   "execution_count": null,
   "metadata": {},
   "outputs": [],
   "source": [
    "'''#PLOT AMENITIES COUNTER \n",
    "\n",
    " Questo codice va cambiato perché bisogna \n",
    " richiamare il df con in count delle \n",
    " amenities per poi fare il plot\n",
    "\n",
    "# Define colors inspired by the Free To X logo\n",
    "colors = ['#0071BC', '#FFD100', '#4D4D4F']  # Blue, yellow, gray\n",
    "\n",
    "# Plot\n",
    "plt.figure(figsize=(12, 6))\n",
    "bars = plt.bar(df['amenity'], df['count'], color=colors[0])  # Using blue as the primary color\n",
    "\n",
    "# Customize each bar color based on index for variety (using a repeating color pattern)\n",
    "for i, bar in enumerate(bars):\n",
    "    bar.set_color(colors[i % len(colors)])\n",
    "\n",
    "# Title and labels\n",
    "plt.title('Count of Amenities Near Charging Stations', fontsize=16, weight='bold')\n",
    "plt.xlabel('Amenity Type', fontsize=14)\n",
    "plt.ylabel('Count', fontsize=14)\n",
    "\n",
    "# Rotate x-axis ticks for readability\n",
    "plt.xticks(rotation=45, ha='right', fontsize=12)\n",
    "\n",
    "# Customize y-axis ticks and grid\n",
    "plt.yticks(fontsize=12)\n",
    "plt.grid(axis='y', linestyle='--', alpha=0.7)\n",
    "\n",
    "# Display the plot\n",
    "plt.tight_layout()\n",
    "plt.show()\n",
    "'''"
   ]
  },
  {
   "cell_type": "code",
   "execution_count": null,
   "metadata": {},
   "outputs": [],
   "source": [
    "# QUESTO È PER PLOTTARE\n",
    "\n",
    "# Convert the 'geometry' column from WKT format to actual geometry using shapely\n",
    "extracted_df['geometry'] = extracted_df['geometry'].apply(wkt.loads)\n",
    "\n",
    "# Convert the DataFrame to a GeoDataFrame\n",
    "gdf = gpd.GeoDataFrame(extracted_df, geometry='geometry')\n",
    "\n",
    "# Filter only POINT geometries for mapping, as polygons have multiple coordinates\n",
    "point_data = gdf[gdf['geometry'].type == 'Point'].copy()\n",
    "\n",
    "# Extract latitude and longitude from the POINT geometry\n",
    "point_data['latitude'] = point_data['geometry'].y\n",
    "point_data['longitude'] = point_data['geometry'].x\n",
    "\n",
    "# Plot using plotly express\n",
    "fig = px.scatter_mapbox(\n",
    "    point_data,\n",
    "    lat='latitude',\n",
    "    lon='longitude',\n",
    "    color='amenity',\n",
    "    hover_name='amenity',\n",
    "    zoom=6,\n",
    "    mapbox_style='open-street-map',\n",
    "    title='Visualizzazione dei Punti di Interesse in Italia'\n",
    ")\n",
    "\n",
    "# Show the map\n",
    "fig.show()"
   ]
  },
  {
   "cell_type": "markdown",
   "metadata": {},
   "source": [
    "# JUST FOR TOP 20 NOW"
   ]
  },
  {
   "cell_type": "code",
   "execution_count": 2,
   "metadata": {},
   "outputs": [],
   "source": [
    "import pandas as pd"
   ]
  },
  {
   "cell_type": "code",
   "execution_count": null,
   "metadata": {},
   "outputs": [],
   "source": [
    "dfric = pd.read_csv(\"PATH TO/top20ricavi.csv\")\n",
    "dfpami = pd.read_csv(\"PATH TO/extracted_pois.csv\")"
   ]
  },
  {
   "cell_type": "code",
   "execution_count": null,
   "metadata": {},
   "outputs": [],
   "source": [
    "# ordering dfric by ricavi\n",
    "dfric = dfric.sort_values(by='Ricavi totali (€) (IVA esclusa)', ascending=False)\n",
    "# keeping only first 20 rows\n",
    "dfric = dfric[:20]"
   ]
  },
  {
   "cell_type": "code",
   "execution_count": null,
   "metadata": {},
   "outputs": [],
   "source": [
    "# AMENITIES VICINO TOP 20 per ricavi\n",
    "\n",
    "# Extract unique latitude and longitude pairs\n",
    "unique_coords = dfric[['station_coordinates_lat', 'station_coordinates_lon']].drop_duplicates()\n",
    "\n",
    "# Convert to a list of tuples\n",
    "unique_coords_list = list(unique_coords.itertuples(index=False, name=None))\n",
    "\n",
    "print(unique_coords_list)\n",
    "\n",
    "# Create an empty DataFrame to store all POI data\n",
    "all_pois = pd.DataFrame()\n",
    "\n",
    "# Function to extract POIs around each charging point\n",
    "def extract_pois(lat, lon, radius=800):\n",
    "    # Define the tags for relevant amenities\n",
    "    tags = {\n",
    "        'amenity': [\n",
    "            'restaurant', 'cafe', 'fast_food', 'pub', 'bar', 'food_court',  # Food & dining\n",
    "            'gym',  # Fitness centers\n",
    "            'supermarket', 'grocery',  # Shopping & groceries\n",
    "            'college', 'research_institute', 'university',  # Educational facilities\n",
    "            'office', 'coworking_space',  # Workplaces\n",
    "            'court_house', 'post_office',  # Public services\n",
    "            'cinema', 'conference_centre', 'events_venue', 'exhibition_centre', 'theatre'  # Arts and entertainment\n",
    "        ],\n",
    "        'shop': ['mall', 'retail', 'department_store'],  # Shopping centers\n",
    "    }\n",
    "    \n",
    "    try:\n",
    "        # Download POIs within the radius using osmnx\n",
    "        poi_data = ox.geometries_from_point((lat, lon), tags=tags, dist=radius)\n",
    "        \n",
    "        # Filter to keep only points and exclude polygons or multipolygons\n",
    "        poi_data = poi_data[poi_data.geometry.type == 'Point']\n",
    "        \n",
    "        # If no points are found, return an empty DataFrame\n",
    "        if poi_data.empty:\n",
    "            return pd.DataFrame()\n",
    "\n",
    "        # Convert to DataFrame and add latitude and longitude columns from geometry\n",
    "        poi_df = pd.DataFrame(poi_data)\n",
    "        poi_df['latitude'] = poi_data.geometry.y\n",
    "        poi_df['longitude'] = poi_data.geometry.x\n",
    "        \n",
    "        # Return the filtered POI DataFrame\n",
    "        return poi_df\n",
    "    \n",
    "    except Exception as e:\n",
    "        print(f\"Error fetching POIs for location ({lat}, {lon}): {e}\")\n",
    "        return pd.DataFrame()  # Return an empty DataFrame if an error occurs\n",
    "\n",
    "# Loop through the list of unique coordinates and extract POIs\n",
    "for lat, lon in unique_coords_list:\n",
    "    pois = extract_pois(lat, lon)\n",
    "    all_pois = pd.concat([all_pois, pois], ignore_index=True)  # Append to the main DataFrame\n",
    "\n",
    "# Save the combined POI data to a CSV file\n",
    "output_file_path = 'Top20amenities.csv'\n",
    "all_pois.to_csv(output_file_path, index=False)\n",
    "print(f\"POI data has been saved to {output_file_path}\")"
   ]
  },
  {
   "cell_type": "code",
   "execution_count": 11,
   "metadata": {},
   "outputs": [],
   "source": [
    "dfamenities = pd.read_csv('/Users/paoloemiliogrande/Desktop/BIG DATA/Top20amenities.csv')"
   ]
  },
  {
   "cell_type": "code",
   "execution_count": 12,
   "metadata": {},
   "outputs": [
    {
     "data": {
      "text/plain": [
       "(97, 72)"
      ]
     },
     "execution_count": 12,
     "metadata": {},
     "output_type": "execute_result"
    }
   ],
   "source": [
    "dfamenities.shape"
   ]
  },
  {
   "cell_type": "code",
   "execution_count": 13,
   "metadata": {},
   "outputs": [
    {
     "data": {
      "text/html": [
       "<div>\n",
       "<style scoped>\n",
       "    .dataframe tbody tr th:only-of-type {\n",
       "        vertical-align: middle;\n",
       "    }\n",
       "\n",
       "    .dataframe tbody tr th {\n",
       "        vertical-align: top;\n",
       "    }\n",
       "\n",
       "    .dataframe thead th {\n",
       "        text-align: right;\n",
       "    }\n",
       "</style>\n",
       "<table border=\"1\" class=\"dataframe\">\n",
       "  <thead>\n",
       "    <tr style=\"text-align: right;\">\n",
       "      <th></th>\n",
       "      <th>amenity</th>\n",
       "      <th>geometry</th>\n",
       "      <th>name</th>\n",
       "    </tr>\n",
       "  </thead>\n",
       "  <tbody>\n",
       "    <tr>\n",
       "      <th>0</th>\n",
       "      <td>cafe</td>\n",
       "      <td>POINT (10.8558537 44.6617058)</td>\n",
       "      <td>Eataly</td>\n",
       "    </tr>\n",
       "    <tr>\n",
       "      <th>1</th>\n",
       "      <td>cafe</td>\n",
       "      <td>POINT (10.8578243 44.6625963)</td>\n",
       "      <td>Acafé</td>\n",
       "    </tr>\n",
       "    <tr>\n",
       "      <th>2</th>\n",
       "      <td>fast_food</td>\n",
       "      <td>POINT (10.8576345 44.6627165)</td>\n",
       "      <td>Burger King</td>\n",
       "    </tr>\n",
       "    <tr>\n",
       "      <th>3</th>\n",
       "      <td>restaurant</td>\n",
       "      <td>POINT (10.8574166 44.6625261)</td>\n",
       "      <td>Sarni</td>\n",
       "    </tr>\n",
       "    <tr>\n",
       "      <th>4</th>\n",
       "      <td>restaurant</td>\n",
       "      <td>POINT (10.8557309 44.6618607)</td>\n",
       "      <td>Autogrill</td>\n",
       "    </tr>\n",
       "  </tbody>\n",
       "</table>\n",
       "</div>"
      ],
      "text/plain": [
       "      amenity                       geometry         name\n",
       "0        cafe  POINT (10.8558537 44.6617058)       Eataly\n",
       "1        cafe  POINT (10.8578243 44.6625963)        Acafé\n",
       "2   fast_food  POINT (10.8576345 44.6627165)  Burger King\n",
       "3  restaurant  POINT (10.8574166 44.6625261)        Sarni\n",
       "4  restaurant  POINT (10.8557309 44.6618607)    Autogrill"
      ]
     },
     "execution_count": 13,
     "metadata": {},
     "output_type": "execute_result"
    }
   ],
   "source": [
    "dfamenities = dfamenities[['amenity', 'geometry', 'name']]\n",
    "dfamenities.head()"
   ]
  },
  {
   "cell_type": "code",
   "execution_count": 14,
   "metadata": {},
   "outputs": [
    {
     "name": "stdout",
     "output_type": "stream",
     "text": [
      "     station_coordinates_lat  station_coordinates_lon  \\\n",
      "128                44.662303                10.858004   \n",
      "419                44.962798                 9.906515   \n",
      "416                44.962843                 9.906473   \n",
      "418                44.962798                 9.906515   \n",
      "130                44.662299                10.857972   \n",
      "\n",
      "                        geometry  \n",
      "128  POINT (10.858004 44.662303)  \n",
      "419   POINT (9.906515 44.962798)  \n",
      "416   POINT (9.906473 44.962843)  \n",
      "418   POINT (9.906515 44.962798)  \n",
      "130  POINT (10.857972 44.662299)  \n",
      "Chargers data with geometry in POINT format has been saved to 'chargers_with_geometry.csv'\n"
     ]
    }
   ],
   "source": [
    "import pandas as pd\n",
    "from shapely.geometry import Point\n",
    "\n",
    "# Convert 'station_coordinates_lat' and 'station_coordinates_lon' to 'geometry' column in POINT format\n",
    "dfric['geometry'] = dfric.apply(\n",
    "    lambda row: Point(row['station_coordinates_lon'], row['station_coordinates_lat']),\n",
    "    axis=1\n",
    ")\n",
    "\n",
    "# Drop the original latitude and longitude columns if desired\n",
    "# chargers_df = chargers_df.drop(columns=['station_coordinates_lat', 'station_coordinates_lon'])\n",
    "\n",
    "# Display the resulting DataFrame\n",
    "print(dfric[['station_coordinates_lat', 'station_coordinates_lon', 'geometry']].head())\n",
    "\n",
    "# Save to a new CSV if needed\n",
    "dfric.to_csv('dfric_with_geometry.csv', index=False)\n",
    "print(\"Chargers data with geometry in POINT format has been saved to 'chargers_with_geometry.csv'\")\n"
   ]
  },
  {
   "cell_type": "code",
   "execution_count": 15,
   "metadata": {},
   "outputs": [
    {
     "data": {
      "text/html": [
       "<div>\n",
       "<style scoped>\n",
       "    .dataframe tbody tr th:only-of-type {\n",
       "        vertical-align: middle;\n",
       "    }\n",
       "\n",
       "    .dataframe tbody tr th {\n",
       "        vertical-align: top;\n",
       "    }\n",
       "\n",
       "    .dataframe thead th {\n",
       "        text-align: right;\n",
       "    }\n",
       "</style>\n",
       "<table border=\"1\" class=\"dataframe\">\n",
       "  <thead>\n",
       "    <tr style=\"text-align: right;\">\n",
       "      <th></th>\n",
       "      <th>connector_evse_id</th>\n",
       "      <th>station_name</th>\n",
       "      <th>station_address</th>\n",
       "      <th>station_postal_code</th>\n",
       "      <th>station_coordinates_lat</th>\n",
       "      <th>station_coordinates_lon</th>\n",
       "      <th>station_brand</th>\n",
       "      <th>totEnergy</th>\n",
       "      <th>totSessions</th>\n",
       "      <th>totCost</th>\n",
       "      <th>Potenza (kW)</th>\n",
       "      <th>Station Città</th>\n",
       "      <th>Ricavi totali (€) (IVA esclusa)</th>\n",
       "      <th>Tempo Totale (min)</th>\n",
       "      <th>denominazione_regione</th>\n",
       "      <th>EV_percentage_per_region</th>\n",
       "      <th>geometry</th>\n",
       "    </tr>\n",
       "  </thead>\n",
       "  <tbody>\n",
       "    <tr>\n",
       "      <th>0</th>\n",
       "      <td>IT*F2X*EF2XITA3001*1</td>\n",
       "      <td>Area di Servizio - Secchia Est</td>\n",
       "      <td>Autostrada del Sole</td>\n",
       "      <td>41100</td>\n",
       "      <td>44.662303</td>\n",
       "      <td>10.858004</td>\n",
       "      <td>alpitronic GmbH</td>\n",
       "      <td>54080.240</td>\n",
       "      <td>1620</td>\n",
       "      <td>36771.63</td>\n",
       "      <td>300.0</td>\n",
       "      <td>Modena</td>\n",
       "      <td>59523.37</td>\n",
       "      <td>72659.0</td>\n",
       "      <td>Emilia-Romagna</td>\n",
       "      <td>0.0661</td>\n",
       "      <td>POINT (10.858004 44.662303)</td>\n",
       "    </tr>\n",
       "    <tr>\n",
       "      <th>1</th>\n",
       "      <td>IT*F2X*EF2XITA2002*2</td>\n",
       "      <td>Area di Servizio - Arda Est</td>\n",
       "      <td>A1 - Autostrada del Sole</td>\n",
       "      <td>29017</td>\n",
       "      <td>44.962798</td>\n",
       "      <td>9.906515</td>\n",
       "      <td>alpitronic GmbH</td>\n",
       "      <td>74152.352</td>\n",
       "      <td>2092</td>\n",
       "      <td>50355.66</td>\n",
       "      <td>300.0</td>\n",
       "      <td>Casa Nuova</td>\n",
       "      <td>54209.87</td>\n",
       "      <td>62399.0</td>\n",
       "      <td>Emilia-Romagna</td>\n",
       "      <td>0.0661</td>\n",
       "      <td>POINT (9.906515 44.962798)</td>\n",
       "    </tr>\n",
       "    <tr>\n",
       "      <th>2</th>\n",
       "      <td>IT*F2X*EF2XITA2001*1</td>\n",
       "      <td>Area di Servizio - Arda Est</td>\n",
       "      <td>A1 - Autostrada del Sole</td>\n",
       "      <td>29017</td>\n",
       "      <td>44.962843</td>\n",
       "      <td>9.906473</td>\n",
       "      <td>alpitronic GmbH</td>\n",
       "      <td>68450.144</td>\n",
       "      <td>2136</td>\n",
       "      <td>46524.74</td>\n",
       "      <td>300.0</td>\n",
       "      <td>Casa Nuova</td>\n",
       "      <td>51286.73</td>\n",
       "      <td>57684.0</td>\n",
       "      <td>Emilia-Romagna</td>\n",
       "      <td>0.0661</td>\n",
       "      <td>POINT (9.906473 44.962843)</td>\n",
       "    </tr>\n",
       "    <tr>\n",
       "      <th>3</th>\n",
       "      <td>IT*F2X*EF2XITA2002*1</td>\n",
       "      <td>Area di Servizio - Arda Est</td>\n",
       "      <td>A1 - Autostrada del Sole</td>\n",
       "      <td>29017</td>\n",
       "      <td>44.962798</td>\n",
       "      <td>9.906515</td>\n",
       "      <td>alpitronic GmbH</td>\n",
       "      <td>68289.672</td>\n",
       "      <td>2175</td>\n",
       "      <td>46492.95</td>\n",
       "      <td>300.0</td>\n",
       "      <td>Casa Nuova</td>\n",
       "      <td>51205.17</td>\n",
       "      <td>58379.0</td>\n",
       "      <td>Emilia-Romagna</td>\n",
       "      <td>0.0661</td>\n",
       "      <td>POINT (9.906515 44.962798)</td>\n",
       "    </tr>\n",
       "    <tr>\n",
       "      <th>4</th>\n",
       "      <td>IT*F2X*EF2XITA3002*1</td>\n",
       "      <td>Area di Servizio - Secchia Est</td>\n",
       "      <td>Autostrada del Sole</td>\n",
       "      <td>41100</td>\n",
       "      <td>44.662299</td>\n",
       "      <td>10.857972</td>\n",
       "      <td>alpitronic GmbH</td>\n",
       "      <td>56488.656</td>\n",
       "      <td>1694</td>\n",
       "      <td>38425.58</td>\n",
       "      <td>300.0</td>\n",
       "      <td>Modena</td>\n",
       "      <td>50395.54</td>\n",
       "      <td>60386.0</td>\n",
       "      <td>Emilia-Romagna</td>\n",
       "      <td>0.0661</td>\n",
       "      <td>POINT (10.857972 44.662299)</td>\n",
       "    </tr>\n",
       "  </tbody>\n",
       "</table>\n",
       "</div>"
      ],
      "text/plain": [
       "      connector_evse_id                    station_name  \\\n",
       "0  IT*F2X*EF2XITA3001*1  Area di Servizio - Secchia Est   \n",
       "1  IT*F2X*EF2XITA2002*2     Area di Servizio - Arda Est   \n",
       "2  IT*F2X*EF2XITA2001*1     Area di Servizio - Arda Est   \n",
       "3  IT*F2X*EF2XITA2002*1     Area di Servizio - Arda Est   \n",
       "4  IT*F2X*EF2XITA3002*1  Area di Servizio - Secchia Est   \n",
       "\n",
       "            station_address  station_postal_code  station_coordinates_lat  \\\n",
       "0       Autostrada del Sole                41100                44.662303   \n",
       "1  A1 - Autostrada del Sole                29017                44.962798   \n",
       "2  A1 - Autostrada del Sole                29017                44.962843   \n",
       "3  A1 - Autostrada del Sole                29017                44.962798   \n",
       "4       Autostrada del Sole                41100                44.662299   \n",
       "\n",
       "   station_coordinates_lon    station_brand  totEnergy  totSessions   totCost  \\\n",
       "0                10.858004  alpitronic GmbH  54080.240         1620  36771.63   \n",
       "1                 9.906515  alpitronic GmbH  74152.352         2092  50355.66   \n",
       "2                 9.906473  alpitronic GmbH  68450.144         2136  46524.74   \n",
       "3                 9.906515  alpitronic GmbH  68289.672         2175  46492.95   \n",
       "4                10.857972  alpitronic GmbH  56488.656         1694  38425.58   \n",
       "\n",
       "   Potenza (kW) Station Città  Ricavi totali (€) (IVA esclusa)  \\\n",
       "0         300.0        Modena                         59523.37   \n",
       "1         300.0    Casa Nuova                         54209.87   \n",
       "2         300.0    Casa Nuova                         51286.73   \n",
       "3         300.0    Casa Nuova                         51205.17   \n",
       "4         300.0        Modena                         50395.54   \n",
       "\n",
       "   Tempo Totale (min) denominazione_regione  EV_percentage_per_region  \\\n",
       "0             72659.0        Emilia-Romagna                    0.0661   \n",
       "1             62399.0        Emilia-Romagna                    0.0661   \n",
       "2             57684.0        Emilia-Romagna                    0.0661   \n",
       "3             58379.0        Emilia-Romagna                    0.0661   \n",
       "4             60386.0        Emilia-Romagna                    0.0661   \n",
       "\n",
       "                      geometry  \n",
       "0  POINT (10.858004 44.662303)  \n",
       "1   POINT (9.906515 44.962798)  \n",
       "2   POINT (9.906473 44.962843)  \n",
       "3   POINT (9.906515 44.962798)  \n",
       "4  POINT (10.857972 44.662299)  "
      ]
     },
     "execution_count": 15,
     "metadata": {},
     "output_type": "execute_result"
    }
   ],
   "source": [
    "dfric2 = pd.read_csv(\"/Users/paoloemiliogrande/Desktop/BIG DATA/dfric_with_geometry.csv\")\n",
    "dfric2.head()"
   ]
  },
  {
   "cell_type": "code",
   "execution_count": 16,
   "metadata": {},
   "outputs": [
    {
     "data": {
      "text/html": [
       "<div>\n",
       "<style scoped>\n",
       "    .dataframe tbody tr th:only-of-type {\n",
       "        vertical-align: middle;\n",
       "    }\n",
       "\n",
       "    .dataframe tbody tr th {\n",
       "        vertical-align: top;\n",
       "    }\n",
       "\n",
       "    .dataframe thead th {\n",
       "        text-align: right;\n",
       "    }\n",
       "</style>\n",
       "<table border=\"1\" class=\"dataframe\">\n",
       "  <thead>\n",
       "    <tr style=\"text-align: right;\">\n",
       "      <th></th>\n",
       "      <th>geometry</th>\n",
       "    </tr>\n",
       "  </thead>\n",
       "  <tbody>\n",
       "    <tr>\n",
       "      <th>0</th>\n",
       "      <td>POINT (10.858004 44.662303)</td>\n",
       "    </tr>\n",
       "    <tr>\n",
       "      <th>1</th>\n",
       "      <td>POINT (9.906515 44.962798)</td>\n",
       "    </tr>\n",
       "    <tr>\n",
       "      <th>2</th>\n",
       "      <td>POINT (9.906473 44.962843)</td>\n",
       "    </tr>\n",
       "    <tr>\n",
       "      <th>3</th>\n",
       "      <td>POINT (9.906515 44.962798)</td>\n",
       "    </tr>\n",
       "    <tr>\n",
       "      <th>4</th>\n",
       "      <td>POINT (10.857972 44.662299)</td>\n",
       "    </tr>\n",
       "  </tbody>\n",
       "</table>\n",
       "</div>"
      ],
      "text/plain": [
       "                      geometry\n",
       "0  POINT (10.858004 44.662303)\n",
       "1   POINT (9.906515 44.962798)\n",
       "2   POINT (9.906473 44.962843)\n",
       "3   POINT (9.906515 44.962798)\n",
       "4  POINT (10.857972 44.662299)"
      ]
     },
     "execution_count": 16,
     "metadata": {},
     "output_type": "execute_result"
    }
   ],
   "source": [
    "# just keep geometry column\n",
    "dfric2 = dfric2[['geometry']]\n",
    "dfric2.head()"
   ]
  },
  {
   "cell_type": "code",
   "execution_count": 17,
   "metadata": {},
   "outputs": [
    {
     "data": {
      "text/html": [
       "<div>\n",
       "<style scoped>\n",
       "    .dataframe tbody tr th:only-of-type {\n",
       "        vertical-align: middle;\n",
       "    }\n",
       "\n",
       "    .dataframe tbody tr th {\n",
       "        vertical-align: top;\n",
       "    }\n",
       "\n",
       "    .dataframe thead th {\n",
       "        text-align: right;\n",
       "    }\n",
       "</style>\n",
       "<table border=\"1\" class=\"dataframe\">\n",
       "  <thead>\n",
       "    <tr style=\"text-align: right;\">\n",
       "      <th></th>\n",
       "      <th>geometry</th>\n",
       "      <th>amenity</th>\n",
       "    </tr>\n",
       "  </thead>\n",
       "  <tbody>\n",
       "    <tr>\n",
       "      <th>0</th>\n",
       "      <td>POINT (10.858004 44.662303)</td>\n",
       "      <td>FTX charger</td>\n",
       "    </tr>\n",
       "    <tr>\n",
       "      <th>1</th>\n",
       "      <td>POINT (9.906515 44.962798)</td>\n",
       "      <td>FTX charger</td>\n",
       "    </tr>\n",
       "    <tr>\n",
       "      <th>2</th>\n",
       "      <td>POINT (9.906473 44.962843)</td>\n",
       "      <td>FTX charger</td>\n",
       "    </tr>\n",
       "    <tr>\n",
       "      <th>3</th>\n",
       "      <td>POINT (9.906515 44.962798)</td>\n",
       "      <td>FTX charger</td>\n",
       "    </tr>\n",
       "    <tr>\n",
       "      <th>4</th>\n",
       "      <td>POINT (10.857972 44.662299)</td>\n",
       "      <td>FTX charger</td>\n",
       "    </tr>\n",
       "  </tbody>\n",
       "</table>\n",
       "</div>"
      ],
      "text/plain": [
       "                      geometry      amenity\n",
       "0  POINT (10.858004 44.662303)  FTX charger\n",
       "1   POINT (9.906515 44.962798)  FTX charger\n",
       "2   POINT (9.906473 44.962843)  FTX charger\n",
       "3   POINT (9.906515 44.962798)  FTX charger\n",
       "4  POINT (10.857972 44.662299)  FTX charger"
      ]
     },
     "execution_count": 17,
     "metadata": {},
     "output_type": "execute_result"
    }
   ],
   "source": [
    "# add a column named 'amenity' and fill all with 'FTX charger'\n",
    "\n",
    "dfric2['amenity'] = 'FTX charger'\n",
    "dfric2.head()"
   ]
  },
  {
   "cell_type": "code",
   "execution_count": 18,
   "metadata": {},
   "outputs": [
    {
     "data": {
      "text/html": [
       "<div>\n",
       "<style scoped>\n",
       "    .dataframe tbody tr th:only-of-type {\n",
       "        vertical-align: middle;\n",
       "    }\n",
       "\n",
       "    .dataframe tbody tr th {\n",
       "        vertical-align: top;\n",
       "    }\n",
       "\n",
       "    .dataframe thead th {\n",
       "        text-align: right;\n",
       "    }\n",
       "</style>\n",
       "<table border=\"1\" class=\"dataframe\">\n",
       "  <thead>\n",
       "    <tr style=\"text-align: right;\">\n",
       "      <th></th>\n",
       "      <th>amenity</th>\n",
       "      <th>geometry</th>\n",
       "      <th>name</th>\n",
       "    </tr>\n",
       "  </thead>\n",
       "  <tbody>\n",
       "    <tr>\n",
       "      <th>0</th>\n",
       "      <td>cafe</td>\n",
       "      <td>POINT (10.8558537 44.6617058)</td>\n",
       "      <td>Eataly</td>\n",
       "    </tr>\n",
       "    <tr>\n",
       "      <th>1</th>\n",
       "      <td>cafe</td>\n",
       "      <td>POINT (10.8578243 44.6625963)</td>\n",
       "      <td>Acafé</td>\n",
       "    </tr>\n",
       "    <tr>\n",
       "      <th>2</th>\n",
       "      <td>fast_food</td>\n",
       "      <td>POINT (10.8576345 44.6627165)</td>\n",
       "      <td>Burger King</td>\n",
       "    </tr>\n",
       "    <tr>\n",
       "      <th>3</th>\n",
       "      <td>restaurant</td>\n",
       "      <td>POINT (10.8574166 44.6625261)</td>\n",
       "      <td>Sarni</td>\n",
       "    </tr>\n",
       "    <tr>\n",
       "      <th>4</th>\n",
       "      <td>restaurant</td>\n",
       "      <td>POINT (10.8557309 44.6618607)</td>\n",
       "      <td>Autogrill</td>\n",
       "    </tr>\n",
       "  </tbody>\n",
       "</table>\n",
       "</div>"
      ],
      "text/plain": [
       "      amenity                       geometry         name\n",
       "0        cafe  POINT (10.8558537 44.6617058)       Eataly\n",
       "1        cafe  POINT (10.8578243 44.6625963)        Acafé\n",
       "2   fast_food  POINT (10.8576345 44.6627165)  Burger King\n",
       "3  restaurant  POINT (10.8574166 44.6625261)        Sarni\n",
       "4  restaurant  POINT (10.8557309 44.6618607)    Autogrill"
      ]
     },
     "execution_count": 18,
     "metadata": {},
     "output_type": "execute_result"
    }
   ],
   "source": [
    "# merge the two dataframes\n",
    "dfmerged = pd.concat([dfamenities, dfric2], ignore_index=True)\n",
    "dfmerged.head()"
   ]
  },
  {
   "cell_type": "code",
   "execution_count": 19,
   "metadata": {},
   "outputs": [
    {
     "data": {
      "text/html": [
       "<div>\n",
       "<style scoped>\n",
       "    .dataframe tbody tr th:only-of-type {\n",
       "        vertical-align: middle;\n",
       "    }\n",
       "\n",
       "    .dataframe tbody tr th {\n",
       "        vertical-align: top;\n",
       "    }\n",
       "\n",
       "    .dataframe thead th {\n",
       "        text-align: right;\n",
       "    }\n",
       "</style>\n",
       "<table border=\"1\" class=\"dataframe\">\n",
       "  <thead>\n",
       "    <tr style=\"text-align: right;\">\n",
       "      <th></th>\n",
       "      <th>amenity</th>\n",
       "      <th>geometry</th>\n",
       "      <th>name</th>\n",
       "    </tr>\n",
       "  </thead>\n",
       "  <tbody>\n",
       "    <tr>\n",
       "      <th>70</th>\n",
       "      <td>cafe</td>\n",
       "      <td>POINT (9.2804437 45.4669398)</td>\n",
       "      <td>L'Orchidea</td>\n",
       "    </tr>\n",
       "    <tr>\n",
       "      <th>82</th>\n",
       "      <td>bar</td>\n",
       "      <td>POINT (10.1578575 45.5254892)</td>\n",
       "      <td>Nuovo Bar Aki</td>\n",
       "    </tr>\n",
       "    <tr>\n",
       "      <th>7</th>\n",
       "      <td>restaurant</td>\n",
       "      <td>POINT (9.9082643 44.9626295)</td>\n",
       "      <td>Sarni</td>\n",
       "    </tr>\n",
       "    <tr>\n",
       "      <th>10</th>\n",
       "      <td>fast_food</td>\n",
       "      <td>POINT (10.8576345 44.6627165)</td>\n",
       "      <td>Burger King</td>\n",
       "    </tr>\n",
       "    <tr>\n",
       "      <th>80</th>\n",
       "      <td>bar</td>\n",
       "      <td>POINT (10.1581173 45.5256068)</td>\n",
       "      <td>Flower Cafè</td>\n",
       "    </tr>\n",
       "    <tr>\n",
       "      <th>60</th>\n",
       "      <td>cafe</td>\n",
       "      <td>POINT (8.8102198 45.7557623)</td>\n",
       "      <td>La Papaya</td>\n",
       "    </tr>\n",
       "    <tr>\n",
       "      <th>9</th>\n",
       "      <td>cafe</td>\n",
       "      <td>POINT (10.8578243 44.6625963)</td>\n",
       "      <td>Acafé</td>\n",
       "    </tr>\n",
       "    <tr>\n",
       "      <th>52</th>\n",
       "      <td>post_office</td>\n",
       "      <td>POINT (9.2797801 45.4611451)</td>\n",
       "      <td>NaN</td>\n",
       "    </tr>\n",
       "    <tr>\n",
       "      <th>33</th>\n",
       "      <td>restaurant</td>\n",
       "      <td>POINT (10.1488142 45.5321101)</td>\n",
       "      <td>Autogrill</td>\n",
       "    </tr>\n",
       "    <tr>\n",
       "      <th>24</th>\n",
       "      <td>fast_food</td>\n",
       "      <td>POINT (10.1569307 45.5255191)</td>\n",
       "      <td>Pizzeria la Verace</td>\n",
       "    </tr>\n",
       "    <tr>\n",
       "      <th>93</th>\n",
       "      <td>restaurant</td>\n",
       "      <td>POINT (10.1488142 45.5321101)</td>\n",
       "      <td>Autogrill</td>\n",
       "    </tr>\n",
       "    <tr>\n",
       "      <th>50</th>\n",
       "      <td>restaurant</td>\n",
       "      <td>POINT (9.2800967 45.4609311)</td>\n",
       "      <td>NaN</td>\n",
       "    </tr>\n",
       "    <tr>\n",
       "      <th>11</th>\n",
       "      <td>restaurant</td>\n",
       "      <td>POINT (10.8574166 44.6625261)</td>\n",
       "      <td>Sarni</td>\n",
       "    </tr>\n",
       "    <tr>\n",
       "      <th>68</th>\n",
       "      <td>post_office</td>\n",
       "      <td>POINT (9.2797801 45.4611451)</td>\n",
       "      <td>NaN</td>\n",
       "    </tr>\n",
       "    <tr>\n",
       "      <th>14</th>\n",
       "      <td>cafe</td>\n",
       "      <td>POINT (10.1518422 45.5370094)</td>\n",
       "      <td>NaN</td>\n",
       "    </tr>\n",
       "    <tr>\n",
       "      <th>63</th>\n",
       "      <td>cafe</td>\n",
       "      <td>POINT (9.2803993 45.4653904)</td>\n",
       "      <td>NaN</td>\n",
       "    </tr>\n",
       "    <tr>\n",
       "      <th>104</th>\n",
       "      <td>FTX charger</td>\n",
       "      <td>POINT (10.148412 45.532517)</td>\n",
       "      <td>NaN</td>\n",
       "    </tr>\n",
       "    <tr>\n",
       "      <th>12</th>\n",
       "      <td>restaurant</td>\n",
       "      <td>POINT (10.8557309 44.6618607)</td>\n",
       "      <td>Autogrill</td>\n",
       "    </tr>\n",
       "    <tr>\n",
       "      <th>46</th>\n",
       "      <td>restaurant</td>\n",
       "      <td>POINT (9.2782676 45.4687778)</td>\n",
       "      <td>Il Veliero</td>\n",
       "    </tr>\n",
       "    <tr>\n",
       "      <th>110</th>\n",
       "      <td>FTX charger</td>\n",
       "      <td>POINT (9.276363 45.461856)</td>\n",
       "      <td>NaN</td>\n",
       "    </tr>\n",
       "  </tbody>\n",
       "</table>\n",
       "</div>"
      ],
      "text/plain": [
       "         amenity                       geometry                name\n",
       "70          cafe   POINT (9.2804437 45.4669398)          L'Orchidea\n",
       "82           bar  POINT (10.1578575 45.5254892)       Nuovo Bar Aki\n",
       "7     restaurant   POINT (9.9082643 44.9626295)               Sarni\n",
       "10     fast_food  POINT (10.8576345 44.6627165)         Burger King\n",
       "80           bar  POINT (10.1581173 45.5256068)         Flower Cafè\n",
       "60          cafe   POINT (8.8102198 45.7557623)           La Papaya\n",
       "9           cafe  POINT (10.8578243 44.6625963)               Acafé\n",
       "52   post_office   POINT (9.2797801 45.4611451)                 NaN\n",
       "33    restaurant  POINT (10.1488142 45.5321101)           Autogrill\n",
       "24     fast_food  POINT (10.1569307 45.5255191)  Pizzeria la Verace\n",
       "93    restaurant  POINT (10.1488142 45.5321101)           Autogrill\n",
       "50    restaurant   POINT (9.2800967 45.4609311)                 NaN\n",
       "11    restaurant  POINT (10.8574166 44.6625261)               Sarni\n",
       "68   post_office   POINT (9.2797801 45.4611451)                 NaN\n",
       "14          cafe  POINT (10.1518422 45.5370094)                 NaN\n",
       "63          cafe   POINT (9.2803993 45.4653904)                 NaN\n",
       "104  FTX charger    POINT (10.148412 45.532517)                 NaN\n",
       "12    restaurant  POINT (10.8557309 44.6618607)           Autogrill\n",
       "46    restaurant   POINT (9.2782676 45.4687778)          Il Veliero\n",
       "110  FTX charger     POINT (9.276363 45.461856)                 NaN"
      ]
     },
     "execution_count": 19,
     "metadata": {},
     "output_type": "execute_result"
    }
   ],
   "source": [
    "dfmerged.sample(20)"
   ]
  },
  {
   "cell_type": "code",
   "execution_count": 21,
   "metadata": {},
   "outputs": [
    {
     "data": {
      "application/vnd.plotly.v1+json": {
       "config": {
        "plotlyServerURL": "https://plot.ly"
       },
       "data": [
        {
         "hovertemplate": "<b>%{hovertext}</b><br><br>amenity=cafe<br>latitude=%{lat}<br>longitude=%{lon}<extra></extra>",
         "hovertext": [
          "cafe",
          "cafe",
          "cafe",
          "cafe",
          "cafe",
          "cafe",
          "cafe",
          "cafe",
          "cafe",
          "cafe",
          "cafe",
          "cafe",
          "cafe",
          "cafe",
          "cafe",
          "cafe",
          "cafe",
          "cafe",
          "cafe",
          "cafe"
         ],
         "lat": [
          44.6617058,
          44.6625963,
          44.6617058,
          44.6625963,
          45.5370094,
          45.5378921,
          44.6617058,
          44.6625963,
          45.7292429,
          45.4653904,
          45.4637036,
          45.4669398,
          45.4607992,
          45.7557623,
          45.4653904,
          45.4637036,
          45.4669398,
          45.4607992,
          45.5370094,
          45.5378921
         ],
         "legendgroup": "cafe",
         "lon": [
          10.8558537,
          10.8578243,
          10.8558537,
          10.8578243,
          10.1518422,
          10.1526288,
          10.8558537,
          10.8578243,
          9.0275399,
          9.2803993,
          9.286076,
          9.2804437,
          9.2794051,
          8.8102198,
          9.2803993,
          9.286076,
          9.2804437,
          9.2794051,
          10.1518422,
          10.1526288
         ],
         "marker": {
          "color": "#636efa"
         },
         "mode": "markers",
         "name": "cafe",
         "showlegend": true,
         "subplot": "mapbox",
         "type": "scattermapbox"
        },
        {
         "hovertemplate": "<b>%{hovertext}</b><br><br>amenity=fast_food<br>latitude=%{lat}<br>longitude=%{lon}<extra></extra>",
         "hovertext": [
          "fast_food",
          "fast_food",
          "fast_food",
          "fast_food",
          "fast_food",
          "fast_food",
          "fast_food",
          "fast_food",
          "fast_food",
          "fast_food",
          "fast_food",
          "fast_food",
          "fast_food",
          "fast_food",
          "fast_food",
          "fast_food"
         ],
         "lat": [
          44.6627165,
          44.6626692,
          44.6627165,
          44.6626692,
          45.5286494,
          45.5255191,
          45.5308835,
          45.5268518,
          44.6627165,
          44.6626692,
          45.4613976,
          45.4613976,
          45.5286494,
          45.5255191,
          45.5308835,
          45.5268518
         ],
         "legendgroup": "fast_food",
         "lon": [
          10.8576345,
          10.8577157,
          10.8576345,
          10.8577157,
          10.1528297,
          10.1569307,
          10.14584,
          10.1449739,
          10.8576345,
          10.8577157,
          9.2793816,
          9.2793816,
          10.1528297,
          10.1569307,
          10.14584,
          10.1449739
         ],
         "marker": {
          "color": "#EF553B"
         },
         "mode": "markers",
         "name": "fast_food",
         "showlegend": true,
         "subplot": "mapbox",
         "type": "scattermapbox"
        },
        {
         "hovertemplate": "<b>%{hovertext}</b><br><br>amenity=restaurant<br>latitude=%{lat}<br>longitude=%{lon}<extra></extra>",
         "hovertext": [
          "restaurant",
          "restaurant",
          "restaurant",
          "restaurant",
          "restaurant",
          "restaurant",
          "restaurant",
          "restaurant",
          "restaurant",
          "restaurant",
          "restaurant",
          "restaurant",
          "restaurant",
          "restaurant",
          "restaurant",
          "restaurant",
          "restaurant",
          "restaurant",
          "restaurant",
          "restaurant",
          "restaurant",
          "restaurant",
          "restaurant",
          "restaurant",
          "restaurant",
          "restaurant",
          "restaurant",
          "restaurant",
          "restaurant",
          "restaurant",
          "restaurant",
          "restaurant",
          "restaurant",
          "restaurant"
         ],
         "lat": [
          44.6625261,
          44.6618607,
          44.9626295,
          44.9626295,
          44.6625261,
          44.6618607,
          45.5327682,
          45.5294007,
          45.5321101,
          44.9626295,
          44.6625261,
          44.6618607,
          45.7291455,
          45.7340636,
          45.4687778,
          45.4653673,
          45.4609311,
          45.461006,
          45.4653879,
          45.7560411,
          45.7597352,
          45.7583186,
          45.7580856,
          45.4687778,
          45.4653673,
          45.4609311,
          45.461006,
          45.4653879,
          45.5327682,
          45.5294007,
          45.5321101,
          41.4985426,
          41.4944828,
          45.3218839
         ],
         "legendgroup": "restaurant",
         "lon": [
          10.8574166,
          10.8557309,
          9.9082643,
          9.9082643,
          10.8574166,
          10.8557309,
          10.1441145,
          10.1487019,
          10.1488142,
          9.9082643,
          10.8574166,
          10.8557309,
          9.0291902,
          9.0240276,
          9.2782676,
          9.2802859,
          9.2800967,
          9.2802896,
          9.2803447,
          8.810657,
          8.8128188,
          8.8132319,
          8.8029486,
          9.2782676,
          9.2802859,
          9.2800967,
          9.2802896,
          9.2803447,
          10.1441145,
          10.1487019,
          10.1488142,
          13.6842624,
          13.6773421,
          9.3766289
         ],
         "marker": {
          "color": "#00cc96"
         },
         "mode": "markers",
         "name": "restaurant",
         "showlegend": true,
         "subplot": "mapbox",
         "type": "scattermapbox"
        },
        {
         "hovertemplate": "<b>%{hovertext}</b><br><br>amenity=bar<br>latitude=%{lat}<br>longitude=%{lon}<extra></extra>",
         "hovertext": [
          "bar",
          "bar",
          "bar",
          "bar",
          "bar",
          "bar",
          "bar",
          "bar",
          "bar",
          "bar",
          "bar",
          "bar",
          "bar",
          "bar",
          "bar",
          "bar",
          "bar",
          "bar",
          "bar",
          "bar",
          "bar"
         ],
         "lat": [
          45.5287905,
          45.5256068,
          45.5260178,
          45.5254892,
          45.5264748,
          45.5260298,
          45.5269192,
          45.5266827,
          45.5354166,
          45.5256797,
          45.7257677,
          45.5287905,
          45.5256068,
          45.5260178,
          45.5254892,
          45.5264748,
          45.5260298,
          45.5269192,
          45.5266827,
          45.5354166,
          45.5256797
         ],
         "legendgroup": "bar",
         "lon": [
          10.1521476,
          10.1581173,
          10.1580119,
          10.1578575,
          10.1492479,
          10.1486668,
          10.1449871,
          10.1502286,
          10.1456043,
          10.1582278,
          9.0381519,
          10.1521476,
          10.1581173,
          10.1580119,
          10.1578575,
          10.1492479,
          10.1486668,
          10.1449871,
          10.1502286,
          10.1456043,
          10.1582278
         ],
         "marker": {
          "color": "#ab63fa"
         },
         "mode": "markers",
         "name": "bar",
         "showlegend": true,
         "subplot": "mapbox",
         "type": "scattermapbox"
        },
        {
         "hovertemplate": "<b>%{hovertext}</b><br><br>amenity=pub<br>latitude=%{lat}<br>longitude=%{lon}<extra></extra>",
         "hovertext": [
          "pub",
          "pub"
         ],
         "lat": [
          45.5288647,
          45.5288647
         ],
         "legendgroup": "pub",
         "lon": [
          10.1517782,
          10.1517782
         ],
         "marker": {
          "color": "#FFA15A"
         },
         "mode": "markers",
         "name": "pub",
         "showlegend": true,
         "subplot": "mapbox",
         "type": "scattermapbox"
        },
        {
         "hovertemplate": "<b>%{hovertext}</b><br><br>amenity=conference_centre<br>latitude=%{lat}<br>longitude=%{lon}<extra></extra>",
         "hovertext": [
          "conference_centre"
         ],
         "lat": [
          44.6547756
         ],
         "legendgroup": "conference_centre",
         "lon": [
          10.8591788
         ],
         "marker": {
          "color": "#19d3f3"
         },
         "mode": "markers",
         "name": "conference_centre",
         "showlegend": true,
         "subplot": "mapbox",
         "type": "scattermapbox"
        },
        {
         "hovertemplate": "<b>%{hovertext}</b><br><br>amenity=post_office<br>latitude=%{lat}<br>longitude=%{lon}<extra></extra>",
         "hovertext": [
          "post_office",
          "post_office",
          "post_office"
         ],
         "lat": [
          45.4611451,
          45.4611451,
          45.5268721
         ],
         "legendgroup": "post_office",
         "lon": [
          9.2797801,
          9.2797801,
          10.158974
         ],
         "marker": {
          "color": "#FF6692"
         },
         "mode": "markers",
         "name": "post_office",
         "showlegend": true,
         "subplot": "mapbox",
         "type": "scattermapbox"
        },
        {
         "hovertemplate": "<b>%{hovertext}</b><br><br>amenity=FTX charger<br>latitude=%{lat}<br>longitude=%{lon}<extra></extra>",
         "hovertext": [
          "FTX charger",
          "FTX charger",
          "FTX charger",
          "FTX charger",
          "FTX charger",
          "FTX charger",
          "FTX charger",
          "FTX charger",
          "FTX charger",
          "FTX charger",
          "FTX charger",
          "FTX charger",
          "FTX charger",
          "FTX charger",
          "FTX charger",
          "FTX charger",
          "FTX charger",
          "FTX charger",
          "FTX charger",
          "FTX charger"
         ],
         "lat": [
          44.662303,
          44.962798,
          44.962843,
          44.962798,
          44.662299,
          44.662299,
          44.662303,
          45.532517,
          44.96261,
          44.661615,
          44.962843,
          45.728993,
          45.57405,
          45.461856,
          45.762405,
          45.461865,
          45.532573,
          41.686526,
          41.497739,
          45.321512
         ],
         "legendgroup": "FTX charger",
         "lon": [
          10.858004,
          9.906515,
          9.906473,
          9.906515,
          10.857972,
          10.857972,
          10.858004,
          10.148412,
          9.90443,
          10.854808,
          9.906473,
          9.028775,
          9.39331,
          9.276363,
          8.81087,
          9.276166,
          10.151184,
          13.188619,
          13.684173,
          9.37723
         ],
         "marker": {
          "color": "#B6E880"
         },
         "mode": "markers",
         "name": "FTX charger",
         "showlegend": true,
         "subplot": "mapbox",
         "type": "scattermapbox"
        }
       ],
       "layout": {
        "legend": {
         "title": {
          "text": "amenity"
         },
         "tracegroupgap": 0
        },
        "mapbox": {
         "center": {
          "lat": 45.18004600512822,
          "lon": 10.080695746153852
         },
         "domain": {
          "x": [
           0,
           1
          ],
          "y": [
           0,
           1
          ]
         },
         "style": "open-street-map",
         "zoom": 6
        },
        "template": {
         "data": {
          "bar": [
           {
            "error_x": {
             "color": "#2a3f5f"
            },
            "error_y": {
             "color": "#2a3f5f"
            },
            "marker": {
             "line": {
              "color": "#E5ECF6",
              "width": 0.5
             },
             "pattern": {
              "fillmode": "overlay",
              "size": 10,
              "solidity": 0.2
             }
            },
            "type": "bar"
           }
          ],
          "barpolar": [
           {
            "marker": {
             "line": {
              "color": "#E5ECF6",
              "width": 0.5
             },
             "pattern": {
              "fillmode": "overlay",
              "size": 10,
              "solidity": 0.2
             }
            },
            "type": "barpolar"
           }
          ],
          "carpet": [
           {
            "aaxis": {
             "endlinecolor": "#2a3f5f",
             "gridcolor": "white",
             "linecolor": "white",
             "minorgridcolor": "white",
             "startlinecolor": "#2a3f5f"
            },
            "baxis": {
             "endlinecolor": "#2a3f5f",
             "gridcolor": "white",
             "linecolor": "white",
             "minorgridcolor": "white",
             "startlinecolor": "#2a3f5f"
            },
            "type": "carpet"
           }
          ],
          "choropleth": [
           {
            "colorbar": {
             "outlinewidth": 0,
             "ticks": ""
            },
            "type": "choropleth"
           }
          ],
          "contour": [
           {
            "colorbar": {
             "outlinewidth": 0,
             "ticks": ""
            },
            "colorscale": [
             [
              0,
              "#0d0887"
             ],
             [
              0.1111111111111111,
              "#46039f"
             ],
             [
              0.2222222222222222,
              "#7201a8"
             ],
             [
              0.3333333333333333,
              "#9c179e"
             ],
             [
              0.4444444444444444,
              "#bd3786"
             ],
             [
              0.5555555555555556,
              "#d8576b"
             ],
             [
              0.6666666666666666,
              "#ed7953"
             ],
             [
              0.7777777777777778,
              "#fb9f3a"
             ],
             [
              0.8888888888888888,
              "#fdca26"
             ],
             [
              1,
              "#f0f921"
             ]
            ],
            "type": "contour"
           }
          ],
          "contourcarpet": [
           {
            "colorbar": {
             "outlinewidth": 0,
             "ticks": ""
            },
            "type": "contourcarpet"
           }
          ],
          "heatmap": [
           {
            "colorbar": {
             "outlinewidth": 0,
             "ticks": ""
            },
            "colorscale": [
             [
              0,
              "#0d0887"
             ],
             [
              0.1111111111111111,
              "#46039f"
             ],
             [
              0.2222222222222222,
              "#7201a8"
             ],
             [
              0.3333333333333333,
              "#9c179e"
             ],
             [
              0.4444444444444444,
              "#bd3786"
             ],
             [
              0.5555555555555556,
              "#d8576b"
             ],
             [
              0.6666666666666666,
              "#ed7953"
             ],
             [
              0.7777777777777778,
              "#fb9f3a"
             ],
             [
              0.8888888888888888,
              "#fdca26"
             ],
             [
              1,
              "#f0f921"
             ]
            ],
            "type": "heatmap"
           }
          ],
          "heatmapgl": [
           {
            "colorbar": {
             "outlinewidth": 0,
             "ticks": ""
            },
            "colorscale": [
             [
              0,
              "#0d0887"
             ],
             [
              0.1111111111111111,
              "#46039f"
             ],
             [
              0.2222222222222222,
              "#7201a8"
             ],
             [
              0.3333333333333333,
              "#9c179e"
             ],
             [
              0.4444444444444444,
              "#bd3786"
             ],
             [
              0.5555555555555556,
              "#d8576b"
             ],
             [
              0.6666666666666666,
              "#ed7953"
             ],
             [
              0.7777777777777778,
              "#fb9f3a"
             ],
             [
              0.8888888888888888,
              "#fdca26"
             ],
             [
              1,
              "#f0f921"
             ]
            ],
            "type": "heatmapgl"
           }
          ],
          "histogram": [
           {
            "marker": {
             "pattern": {
              "fillmode": "overlay",
              "size": 10,
              "solidity": 0.2
             }
            },
            "type": "histogram"
           }
          ],
          "histogram2d": [
           {
            "colorbar": {
             "outlinewidth": 0,
             "ticks": ""
            },
            "colorscale": [
             [
              0,
              "#0d0887"
             ],
             [
              0.1111111111111111,
              "#46039f"
             ],
             [
              0.2222222222222222,
              "#7201a8"
             ],
             [
              0.3333333333333333,
              "#9c179e"
             ],
             [
              0.4444444444444444,
              "#bd3786"
             ],
             [
              0.5555555555555556,
              "#d8576b"
             ],
             [
              0.6666666666666666,
              "#ed7953"
             ],
             [
              0.7777777777777778,
              "#fb9f3a"
             ],
             [
              0.8888888888888888,
              "#fdca26"
             ],
             [
              1,
              "#f0f921"
             ]
            ],
            "type": "histogram2d"
           }
          ],
          "histogram2dcontour": [
           {
            "colorbar": {
             "outlinewidth": 0,
             "ticks": ""
            },
            "colorscale": [
             [
              0,
              "#0d0887"
             ],
             [
              0.1111111111111111,
              "#46039f"
             ],
             [
              0.2222222222222222,
              "#7201a8"
             ],
             [
              0.3333333333333333,
              "#9c179e"
             ],
             [
              0.4444444444444444,
              "#bd3786"
             ],
             [
              0.5555555555555556,
              "#d8576b"
             ],
             [
              0.6666666666666666,
              "#ed7953"
             ],
             [
              0.7777777777777778,
              "#fb9f3a"
             ],
             [
              0.8888888888888888,
              "#fdca26"
             ],
             [
              1,
              "#f0f921"
             ]
            ],
            "type": "histogram2dcontour"
           }
          ],
          "mesh3d": [
           {
            "colorbar": {
             "outlinewidth": 0,
             "ticks": ""
            },
            "type": "mesh3d"
           }
          ],
          "parcoords": [
           {
            "line": {
             "colorbar": {
              "outlinewidth": 0,
              "ticks": ""
             }
            },
            "type": "parcoords"
           }
          ],
          "pie": [
           {
            "automargin": true,
            "type": "pie"
           }
          ],
          "scatter": [
           {
            "fillpattern": {
             "fillmode": "overlay",
             "size": 10,
             "solidity": 0.2
            },
            "type": "scatter"
           }
          ],
          "scatter3d": [
           {
            "line": {
             "colorbar": {
              "outlinewidth": 0,
              "ticks": ""
             }
            },
            "marker": {
             "colorbar": {
              "outlinewidth": 0,
              "ticks": ""
             }
            },
            "type": "scatter3d"
           }
          ],
          "scattercarpet": [
           {
            "marker": {
             "colorbar": {
              "outlinewidth": 0,
              "ticks": ""
             }
            },
            "type": "scattercarpet"
           }
          ],
          "scattergeo": [
           {
            "marker": {
             "colorbar": {
              "outlinewidth": 0,
              "ticks": ""
             }
            },
            "type": "scattergeo"
           }
          ],
          "scattergl": [
           {
            "marker": {
             "colorbar": {
              "outlinewidth": 0,
              "ticks": ""
             }
            },
            "type": "scattergl"
           }
          ],
          "scattermapbox": [
           {
            "marker": {
             "colorbar": {
              "outlinewidth": 0,
              "ticks": ""
             }
            },
            "type": "scattermapbox"
           }
          ],
          "scatterpolar": [
           {
            "marker": {
             "colorbar": {
              "outlinewidth": 0,
              "ticks": ""
             }
            },
            "type": "scatterpolar"
           }
          ],
          "scatterpolargl": [
           {
            "marker": {
             "colorbar": {
              "outlinewidth": 0,
              "ticks": ""
             }
            },
            "type": "scatterpolargl"
           }
          ],
          "scatterternary": [
           {
            "marker": {
             "colorbar": {
              "outlinewidth": 0,
              "ticks": ""
             }
            },
            "type": "scatterternary"
           }
          ],
          "surface": [
           {
            "colorbar": {
             "outlinewidth": 0,
             "ticks": ""
            },
            "colorscale": [
             [
              0,
              "#0d0887"
             ],
             [
              0.1111111111111111,
              "#46039f"
             ],
             [
              0.2222222222222222,
              "#7201a8"
             ],
             [
              0.3333333333333333,
              "#9c179e"
             ],
             [
              0.4444444444444444,
              "#bd3786"
             ],
             [
              0.5555555555555556,
              "#d8576b"
             ],
             [
              0.6666666666666666,
              "#ed7953"
             ],
             [
              0.7777777777777778,
              "#fb9f3a"
             ],
             [
              0.8888888888888888,
              "#fdca26"
             ],
             [
              1,
              "#f0f921"
             ]
            ],
            "type": "surface"
           }
          ],
          "table": [
           {
            "cells": {
             "fill": {
              "color": "#EBF0F8"
             },
             "line": {
              "color": "white"
             }
            },
            "header": {
             "fill": {
              "color": "#C8D4E3"
             },
             "line": {
              "color": "white"
             }
            },
            "type": "table"
           }
          ]
         },
         "layout": {
          "annotationdefaults": {
           "arrowcolor": "#2a3f5f",
           "arrowhead": 0,
           "arrowwidth": 1
          },
          "autotypenumbers": "strict",
          "coloraxis": {
           "colorbar": {
            "outlinewidth": 0,
            "ticks": ""
           }
          },
          "colorscale": {
           "diverging": [
            [
             0,
             "#8e0152"
            ],
            [
             0.1,
             "#c51b7d"
            ],
            [
             0.2,
             "#de77ae"
            ],
            [
             0.3,
             "#f1b6da"
            ],
            [
             0.4,
             "#fde0ef"
            ],
            [
             0.5,
             "#f7f7f7"
            ],
            [
             0.6,
             "#e6f5d0"
            ],
            [
             0.7,
             "#b8e186"
            ],
            [
             0.8,
             "#7fbc41"
            ],
            [
             0.9,
             "#4d9221"
            ],
            [
             1,
             "#276419"
            ]
           ],
           "sequential": [
            [
             0,
             "#0d0887"
            ],
            [
             0.1111111111111111,
             "#46039f"
            ],
            [
             0.2222222222222222,
             "#7201a8"
            ],
            [
             0.3333333333333333,
             "#9c179e"
            ],
            [
             0.4444444444444444,
             "#bd3786"
            ],
            [
             0.5555555555555556,
             "#d8576b"
            ],
            [
             0.6666666666666666,
             "#ed7953"
            ],
            [
             0.7777777777777778,
             "#fb9f3a"
            ],
            [
             0.8888888888888888,
             "#fdca26"
            ],
            [
             1,
             "#f0f921"
            ]
           ],
           "sequentialminus": [
            [
             0,
             "#0d0887"
            ],
            [
             0.1111111111111111,
             "#46039f"
            ],
            [
             0.2222222222222222,
             "#7201a8"
            ],
            [
             0.3333333333333333,
             "#9c179e"
            ],
            [
             0.4444444444444444,
             "#bd3786"
            ],
            [
             0.5555555555555556,
             "#d8576b"
            ],
            [
             0.6666666666666666,
             "#ed7953"
            ],
            [
             0.7777777777777778,
             "#fb9f3a"
            ],
            [
             0.8888888888888888,
             "#fdca26"
            ],
            [
             1,
             "#f0f921"
            ]
           ]
          },
          "colorway": [
           "#636efa",
           "#EF553B",
           "#00cc96",
           "#ab63fa",
           "#FFA15A",
           "#19d3f3",
           "#FF6692",
           "#B6E880",
           "#FF97FF",
           "#FECB52"
          ],
          "font": {
           "color": "#2a3f5f"
          },
          "geo": {
           "bgcolor": "white",
           "lakecolor": "white",
           "landcolor": "#E5ECF6",
           "showlakes": true,
           "showland": true,
           "subunitcolor": "white"
          },
          "hoverlabel": {
           "align": "left"
          },
          "hovermode": "closest",
          "mapbox": {
           "style": "light"
          },
          "paper_bgcolor": "white",
          "plot_bgcolor": "#E5ECF6",
          "polar": {
           "angularaxis": {
            "gridcolor": "white",
            "linecolor": "white",
            "ticks": ""
           },
           "bgcolor": "#E5ECF6",
           "radialaxis": {
            "gridcolor": "white",
            "linecolor": "white",
            "ticks": ""
           }
          },
          "scene": {
           "xaxis": {
            "backgroundcolor": "#E5ECF6",
            "gridcolor": "white",
            "gridwidth": 2,
            "linecolor": "white",
            "showbackground": true,
            "ticks": "",
            "zerolinecolor": "white"
           },
           "yaxis": {
            "backgroundcolor": "#E5ECF6",
            "gridcolor": "white",
            "gridwidth": 2,
            "linecolor": "white",
            "showbackground": true,
            "ticks": "",
            "zerolinecolor": "white"
           },
           "zaxis": {
            "backgroundcolor": "#E5ECF6",
            "gridcolor": "white",
            "gridwidth": 2,
            "linecolor": "white",
            "showbackground": true,
            "ticks": "",
            "zerolinecolor": "white"
           }
          },
          "shapedefaults": {
           "line": {
            "color": "#2a3f5f"
           }
          },
          "ternary": {
           "aaxis": {
            "gridcolor": "white",
            "linecolor": "white",
            "ticks": ""
           },
           "baxis": {
            "gridcolor": "white",
            "linecolor": "white",
            "ticks": ""
           },
           "bgcolor": "#E5ECF6",
           "caxis": {
            "gridcolor": "white",
            "linecolor": "white",
            "ticks": ""
           }
          },
          "title": {
           "x": 0.05
          },
          "xaxis": {
           "automargin": true,
           "gridcolor": "white",
           "linecolor": "white",
           "ticks": "",
           "title": {
            "standoff": 15
           },
           "zerolinecolor": "white",
           "zerolinewidth": 2
          },
          "yaxis": {
           "automargin": true,
           "gridcolor": "white",
           "linecolor": "white",
           "ticks": "",
           "title": {
            "standoff": 15
           },
           "zerolinecolor": "white",
           "zerolinewidth": 2
          }
         }
        },
        "title": {
         "text": "Visualizzazione dei Punti di Interesse in Italia"
        }
       }
      }
     },
     "metadata": {},
     "output_type": "display_data"
    }
   ],
   "source": [
    "# let's plot the map\n",
    "import pandas as pd\n",
    "import geopandas as gpd\n",
    "from shapely import wkt\n",
    "import plotly.express as px\n",
    "\n",
    "# Load data with pandas\n",
    "data = dfmerged\n",
    "\n",
    "# Convert the 'geometry' column from WKT format to actual geometry using shapely\n",
    "data['geometry'] = data['geometry'].apply(wkt.loads)\n",
    "\n",
    "# Convert the DataFrame to a GeoDataFrame\n",
    "gdf = gpd.GeoDataFrame(data, geometry='geometry')\n",
    "\n",
    "# Filter only POINT geometries for mapping, as polygons have multiple coordinates\n",
    "point_data = gdf[gdf['geometry'].type == 'Point'].copy()\n",
    "\n",
    "# Extract latitude and longitude from the POINT geometry\n",
    "point_data['latitude'] = point_data['geometry'].y\n",
    "point_data['longitude'] = point_data['geometry'].x\n",
    "\n",
    "# Plot using plotly express\n",
    "fig = px.scatter_mapbox(\n",
    "    point_data,\n",
    "    lat='latitude',\n",
    "    lon='longitude',\n",
    "    color='amenity',\n",
    "    hover_name='amenity',\n",
    "    zoom=6,\n",
    "    mapbox_style='open-street-map',\n",
    "    title='Visualizzazione dei Punti di Interesse in Italia'\n",
    ")\n",
    "\n",
    "# Show the map\n",
    "fig.show()"
   ]
  },
  {
   "cell_type": "code",
   "execution_count": 24,
   "metadata": {},
   "outputs": [
    {
     "name": "stdout",
     "output_type": "stream",
     "text": [
      "Chargers with nearby amenities have been saved to chargers_with_nearby_amenities.csv\n"
     ]
    }
   ],
   "source": [
    "import pandas as pd\n",
    "import geopandas as gpd\n",
    "from shapely.geometry import Point\n",
    "\n",
    "# Load your dataset (assuming it contains both chargers and amenities)\n",
    "data = dfmerged\n",
    "\n",
    "# Function to safely convert geometry column to Point\n",
    "def convert_to_point(geometry):\n",
    "    if isinstance(geometry, str):  # Check if it's a string\n",
    "        # Strip \"POINT\" and parse coordinates, then create a Point\n",
    "        coordinates = geometry.replace(\"POINT \", \"\").strip(\"()\").split()\n",
    "        return Point(float(coordinates[0]), float(coordinates[1]))\n",
    "    elif isinstance(geometry, Point):  # If already a Point object\n",
    "        return geometry\n",
    "    else:\n",
    "        raise ValueError(\"Unexpected geometry format\")\n",
    "\n",
    "# Apply the function to convert the 'geometry' column\n",
    "data['geometry'] = data['geometry'].apply(convert_to_point)\n",
    "\n",
    "# Convert to GeoDataFrame\n",
    "gdf = gpd.GeoDataFrame(data, geometry='geometry', crs=\"EPSG:4326\")\n",
    "\n",
    "# Separate chargers and amenities\n",
    "chargers = gdf[gdf['amenity'] == 'FTX charger'].copy()  # Assuming 'FTX charger' is the label for chargers\n",
    "amenities = gdf[gdf['amenity'] != 'FTX charger'].copy()  # Everything else is considered an amenity\n",
    "\n",
    "# Convert to a projected CRS (meters) to accurately calculate distances\n",
    "chargers = chargers.to_crs(epsg=3857)\n",
    "amenities = amenities.to_crs(epsg=3857)\n",
    "\n",
    "# Function to find amenities within 800m for each charger and list unique types\n",
    "def find_amenities_around_charger(charger, amenities, radius=800):\n",
    "    # Calculate distances to amenities and filter within the radius\n",
    "    nearby_amenities = amenities[amenities.geometry.distance(charger.geometry) <= radius]\n",
    "    # Get unique amenity types\n",
    "    unique_amenities = nearby_amenities['amenity'].unique().tolist()\n",
    "    return unique_amenities\n",
    "\n",
    "# Apply the function to each charger\n",
    "chargers['nearby_amenities'] = chargers.apply(lambda charger: find_amenities_around_charger(charger, amenities), axis=1)\n",
    "\n",
    "# Save the result to a new CSV file\n",
    "output_file_path = 'chargers_with_nearby_amenities.csv'\n",
    "chargers.to_csv(output_file_path, index=False)\n",
    "print(f\"Chargers with nearby amenities have been saved to {output_file_path}\")\n"
   ]
  },
  {
   "cell_type": "code",
   "execution_count": 26,
   "metadata": {},
   "outputs": [
    {
     "data": {
      "text/html": [
       "<div>\n",
       "<style scoped>\n",
       "    .dataframe tbody tr th:only-of-type {\n",
       "        vertical-align: middle;\n",
       "    }\n",
       "\n",
       "    .dataframe tbody tr th {\n",
       "        vertical-align: top;\n",
       "    }\n",
       "\n",
       "    .dataframe thead th {\n",
       "        text-align: right;\n",
       "    }\n",
       "</style>\n",
       "<table border=\"1\" class=\"dataframe\">\n",
       "  <thead>\n",
       "    <tr style=\"text-align: right;\">\n",
       "      <th></th>\n",
       "      <th>amenity</th>\n",
       "      <th>geometry</th>\n",
       "      <th>name</th>\n",
       "      <th>nearby_amenities</th>\n",
       "    </tr>\n",
       "  </thead>\n",
       "  <tbody>\n",
       "    <tr>\n",
       "      <th>12</th>\n",
       "      <td>FTX charger</td>\n",
       "      <td>POINT (1045658.4860633644 5712351.211420403)</td>\n",
       "      <td>NaN</td>\n",
       "      <td>[]</td>\n",
       "    </tr>\n",
       "    <tr>\n",
       "      <th>6</th>\n",
       "      <td>FTX charger</td>\n",
       "      <td>POINT (1208707.4763113274 5568513.757297508)</td>\n",
       "      <td>NaN</td>\n",
       "      <td>['cafe', 'fast_food', 'restaurant']</td>\n",
       "    </tr>\n",
       "    <tr>\n",
       "      <th>5</th>\n",
       "      <td>FTX charger</td>\n",
       "      <td>POINT (1208703.9140876222 5568513.1312583275)</td>\n",
       "      <td>NaN</td>\n",
       "      <td>['cafe', 'fast_food', 'restaurant']</td>\n",
       "    </tr>\n",
       "    <tr>\n",
       "      <th>18</th>\n",
       "      <td>FTX charger</td>\n",
       "      <td>POINT (1523315.1702870626 5086037.596075952)</td>\n",
       "      <td>NaN</td>\n",
       "      <td>['restaurant']</td>\n",
       "    </tr>\n",
       "    <tr>\n",
       "      <th>16</th>\n",
       "      <td>FTX charger</td>\n",
       "      <td>POINT (1130024.633828826 5705757.523794186)</td>\n",
       "      <td>NaN</td>\n",
       "      <td>['cafe', 'restaurant', 'bar', 'pub', 'fast_food']</td>\n",
       "    </tr>\n",
       "    <tr>\n",
       "      <th>10</th>\n",
       "      <td>FTX charger</td>\n",
       "      <td>POINT (1102783.5299173133 5615673.772552241)</td>\n",
       "      <td>NaN</td>\n",
       "      <td>['restaurant']</td>\n",
       "    </tr>\n",
       "    <tr>\n",
       "      <th>8</th>\n",
       "      <td>FTX charger</td>\n",
       "      <td>POINT (1102556.1041976225 5615637.11531034)</td>\n",
       "      <td>NaN</td>\n",
       "      <td>['restaurant']</td>\n",
       "    </tr>\n",
       "    <tr>\n",
       "      <th>14</th>\n",
       "      <td>FTX charger</td>\n",
       "      <td>POINT (980821.5618457302 5742355.862570743)</td>\n",
       "      <td>NaN</td>\n",
       "      <td>['restaurant']</td>\n",
       "    </tr>\n",
       "    <tr>\n",
       "      <th>13</th>\n",
       "      <td>FTX charger</td>\n",
       "      <td>POINT (1032640.0055735636 5694526.694155467)</td>\n",
       "      <td>NaN</td>\n",
       "      <td>['cafe', 'restaurant', 'fast_food', 'post_offi...</td>\n",
       "    </tr>\n",
       "    <tr>\n",
       "      <th>17</th>\n",
       "      <td>FTX charger</td>\n",
       "      <td>POINT (1468150.3513464928 5114137.608482699)</td>\n",
       "      <td>NaN</td>\n",
       "      <td>[]</td>\n",
       "    </tr>\n",
       "    <tr>\n",
       "      <th>7</th>\n",
       "      <td>FTX charger</td>\n",
       "      <td>POINT (1129716.0562003471 5705748.624642473)</td>\n",
       "      <td>NaN</td>\n",
       "      <td>['restaurant', 'bar', 'pub', 'fast_food']</td>\n",
       "    </tr>\n",
       "    <tr>\n",
       "      <th>4</th>\n",
       "      <td>FTX charger</td>\n",
       "      <td>POINT (1208703.9140876222 5568513.1312583275)</td>\n",
       "      <td>NaN</td>\n",
       "      <td>['cafe', 'fast_food', 'restaurant']</td>\n",
       "    </tr>\n",
       "    <tr>\n",
       "      <th>2</th>\n",
       "      <td>FTX charger</td>\n",
       "      <td>POINT (1102783.5299173133 5615673.772552241)</td>\n",
       "      <td>NaN</td>\n",
       "      <td>['restaurant']</td>\n",
       "    </tr>\n",
       "    <tr>\n",
       "      <th>11</th>\n",
       "      <td>FTX charger</td>\n",
       "      <td>POINT (1005078.6354870385 5737026.009804706)</td>\n",
       "      <td>NaN</td>\n",
       "      <td>['restaurant', 'cafe']</td>\n",
       "    </tr>\n",
       "    <tr>\n",
       "      <th>0</th>\n",
       "      <td>FTX charger</td>\n",
       "      <td>POINT (1208707.4763113274 5568513.757297508)</td>\n",
       "      <td>NaN</td>\n",
       "      <td>['cafe', 'fast_food', 'restaurant']</td>\n",
       "    </tr>\n",
       "    <tr>\n",
       "      <th>1</th>\n",
       "      <td>FTX charger</td>\n",
       "      <td>POINT (1102788.2053359265 5615666.6928158095)</td>\n",
       "      <td>NaN</td>\n",
       "      <td>['restaurant']</td>\n",
       "    </tr>\n",
       "    <tr>\n",
       "      <th>9</th>\n",
       "      <td>FTX charger</td>\n",
       "      <td>POINT (1208351.6992187523 5568406.0791937)</td>\n",
       "      <td>NaN</td>\n",
       "      <td>['cafe', 'fast_food', 'restaurant']</td>\n",
       "    </tr>\n",
       "    <tr>\n",
       "      <th>15</th>\n",
       "      <td>FTX charger</td>\n",
       "      <td>POINT (1032618.0756338773 5694528.122582084)</td>\n",
       "      <td>NaN</td>\n",
       "      <td>['cafe', 'restaurant', 'fast_food', 'post_offi...</td>\n",
       "    </tr>\n",
       "    <tr>\n",
       "      <th>19</th>\n",
       "      <td>FTX charger</td>\n",
       "      <td>POINT (1043868.4686514089 5672279.784383126)</td>\n",
       "      <td>NaN</td>\n",
       "      <td>['restaurant']</td>\n",
       "    </tr>\n",
       "    <tr>\n",
       "      <th>3</th>\n",
       "      <td>FTX charger</td>\n",
       "      <td>POINT (1102788.2053359265 5615666.6928158095)</td>\n",
       "      <td>NaN</td>\n",
       "      <td>['restaurant']</td>\n",
       "    </tr>\n",
       "  </tbody>\n",
       "</table>\n",
       "</div>"
      ],
      "text/plain": [
       "        amenity                                       geometry  name  \\\n",
       "12  FTX charger   POINT (1045658.4860633644 5712351.211420403)   NaN   \n",
       "6   FTX charger   POINT (1208707.4763113274 5568513.757297508)   NaN   \n",
       "5   FTX charger  POINT (1208703.9140876222 5568513.1312583275)   NaN   \n",
       "18  FTX charger   POINT (1523315.1702870626 5086037.596075952)   NaN   \n",
       "16  FTX charger    POINT (1130024.633828826 5705757.523794186)   NaN   \n",
       "10  FTX charger   POINT (1102783.5299173133 5615673.772552241)   NaN   \n",
       "8   FTX charger    POINT (1102556.1041976225 5615637.11531034)   NaN   \n",
       "14  FTX charger    POINT (980821.5618457302 5742355.862570743)   NaN   \n",
       "13  FTX charger   POINT (1032640.0055735636 5694526.694155467)   NaN   \n",
       "17  FTX charger   POINT (1468150.3513464928 5114137.608482699)   NaN   \n",
       "7   FTX charger   POINT (1129716.0562003471 5705748.624642473)   NaN   \n",
       "4   FTX charger  POINT (1208703.9140876222 5568513.1312583275)   NaN   \n",
       "2   FTX charger   POINT (1102783.5299173133 5615673.772552241)   NaN   \n",
       "11  FTX charger   POINT (1005078.6354870385 5737026.009804706)   NaN   \n",
       "0   FTX charger   POINT (1208707.4763113274 5568513.757297508)   NaN   \n",
       "1   FTX charger  POINT (1102788.2053359265 5615666.6928158095)   NaN   \n",
       "9   FTX charger     POINT (1208351.6992187523 5568406.0791937)   NaN   \n",
       "15  FTX charger   POINT (1032618.0756338773 5694528.122582084)   NaN   \n",
       "19  FTX charger   POINT (1043868.4686514089 5672279.784383126)   NaN   \n",
       "3   FTX charger  POINT (1102788.2053359265 5615666.6928158095)   NaN   \n",
       "\n",
       "                                     nearby_amenities  \n",
       "12                                                 []  \n",
       "6                 ['cafe', 'fast_food', 'restaurant']  \n",
       "5                 ['cafe', 'fast_food', 'restaurant']  \n",
       "18                                     ['restaurant']  \n",
       "16  ['cafe', 'restaurant', 'bar', 'pub', 'fast_food']  \n",
       "10                                     ['restaurant']  \n",
       "8                                      ['restaurant']  \n",
       "14                                     ['restaurant']  \n",
       "13  ['cafe', 'restaurant', 'fast_food', 'post_offi...  \n",
       "17                                                 []  \n",
       "7           ['restaurant', 'bar', 'pub', 'fast_food']  \n",
       "4                 ['cafe', 'fast_food', 'restaurant']  \n",
       "2                                      ['restaurant']  \n",
       "11                             ['restaurant', 'cafe']  \n",
       "0                 ['cafe', 'fast_food', 'restaurant']  \n",
       "1                                      ['restaurant']  \n",
       "9                 ['cafe', 'fast_food', 'restaurant']  \n",
       "15  ['cafe', 'restaurant', 'fast_food', 'post_offi...  \n",
       "19                                     ['restaurant']  \n",
       "3                                      ['restaurant']  "
      ]
     },
     "execution_count": 26,
     "metadata": {},
     "output_type": "execute_result"
    }
   ],
   "source": [
    "prova = pd.read_csv('/Users/paoloemiliogrande/Desktop/BIG DATA/chargers_with_nearby_amenities.csv')\n",
    "prova.sample(20)"
   ]
  },
  {
   "cell_type": "code",
   "execution_count": 27,
   "metadata": {},
   "outputs": [
    {
     "name": "stdout",
     "output_type": "stream",
     "text": [
      "       amenity                                       geometry  name  \\\n",
      "0  FTX charger   POINT (1208707.4763113274 5568513.757297508)   NaN   \n",
      "1  FTX charger  POINT (1102788.2053359265 5615666.6928158095)   NaN   \n",
      "2  FTX charger   POINT (1102783.5299173133 5615673.772552241)   NaN   \n",
      "3  FTX charger  POINT (1102788.2053359265 5615666.6928158095)   NaN   \n",
      "4  FTX charger  POINT (1208703.9140876222 5568513.1312583275)   NaN   \n",
      "\n",
      "                nearby_amenities    pub  fast_food  restaurant  post_office  \\\n",
      "0  [cafe, fast_food, restaurant]  False       True        True        False   \n",
      "1                   [restaurant]  False      False        True        False   \n",
      "2                   [restaurant]  False      False        True        False   \n",
      "3                   [restaurant]  False      False        True        False   \n",
      "4  [cafe, fast_food, restaurant]  False       True        True        False   \n",
      "\n",
      "    cafe    bar  \n",
      "0   True  False  \n",
      "1  False  False  \n",
      "2  False  False  \n",
      "3  False  False  \n",
      "4   True  False  \n",
      "Chargers with all amenities booleans have been saved to /Users/paoloemiliogrande/Desktop/BIG DATA/chargers_with_all_amenities_booleans.csv\n"
     ]
    }
   ],
   "source": [
    "import pandas as pd\n",
    "\n",
    "# Load your data\n",
    "data = prova\n",
    "\n",
    "# Convert the 'nearby_amenities' column from string to list (if it's not already a list)\n",
    "data['nearby_amenities'] = data['nearby_amenities'].apply(lambda x: eval(x) if isinstance(x, str) else x)\n",
    "\n",
    "# Get a list of all unique amenities across all chargers\n",
    "all_amenities = set(amenity for sublist in data['nearby_amenities'] for amenity in sublist)\n",
    "\n",
    "# Create a boolean column for each unique amenity type\n",
    "for amenity in all_amenities:\n",
    "    data[amenity] = data['nearby_amenities'].apply(lambda x: amenity in x)\n",
    "\n",
    "# Drop 'nearby_amenities' column if you no longer need it\n",
    "# data = data.drop(columns=['nearby_amenities'])\n",
    "\n",
    "# Display the updated DataFrame\n",
    "print(data.head())\n",
    "\n",
    "# Save the result to a new CSV file if needed\n",
    "output_file_path = '/Users/paoloemiliogrande/Desktop/BIG DATA/chargers_with_all_amenities_booleans.csv'\n",
    "data.to_csv(output_file_path, index=False)\n",
    "print(f\"Chargers with all amenities booleans have been saved to {output_file_path}\")\n"
   ]
  },
  {
   "cell_type": "code",
   "execution_count": 28,
   "metadata": {},
   "outputs": [
    {
     "data": {
      "text/html": [
       "<div>\n",
       "<style scoped>\n",
       "    .dataframe tbody tr th:only-of-type {\n",
       "        vertical-align: middle;\n",
       "    }\n",
       "\n",
       "    .dataframe tbody tr th {\n",
       "        vertical-align: top;\n",
       "    }\n",
       "\n",
       "    .dataframe thead th {\n",
       "        text-align: right;\n",
       "    }\n",
       "</style>\n",
       "<table border=\"1\" class=\"dataframe\">\n",
       "  <thead>\n",
       "    <tr style=\"text-align: right;\">\n",
       "      <th></th>\n",
       "      <th>amenity</th>\n",
       "      <th>geometry</th>\n",
       "      <th>name</th>\n",
       "      <th>nearby_amenities</th>\n",
       "      <th>pub</th>\n",
       "      <th>fast_food</th>\n",
       "      <th>restaurant</th>\n",
       "      <th>post_office</th>\n",
       "      <th>cafe</th>\n",
       "      <th>bar</th>\n",
       "    </tr>\n",
       "  </thead>\n",
       "  <tbody>\n",
       "    <tr>\n",
       "      <th>9</th>\n",
       "      <td>FTX charger</td>\n",
       "      <td>POINT (1208351.6992187523 5568406.0791937)</td>\n",
       "      <td>NaN</td>\n",
       "      <td>['cafe', 'fast_food', 'restaurant']</td>\n",
       "      <td>False</td>\n",
       "      <td>True</td>\n",
       "      <td>True</td>\n",
       "      <td>False</td>\n",
       "      <td>True</td>\n",
       "      <td>False</td>\n",
       "    </tr>\n",
       "    <tr>\n",
       "      <th>18</th>\n",
       "      <td>FTX charger</td>\n",
       "      <td>POINT (1523315.1702870626 5086037.596075952)</td>\n",
       "      <td>NaN</td>\n",
       "      <td>['restaurant']</td>\n",
       "      <td>False</td>\n",
       "      <td>False</td>\n",
       "      <td>True</td>\n",
       "      <td>False</td>\n",
       "      <td>False</td>\n",
       "      <td>False</td>\n",
       "    </tr>\n",
       "    <tr>\n",
       "      <th>1</th>\n",
       "      <td>FTX charger</td>\n",
       "      <td>POINT (1102788.2053359265 5615666.6928158095)</td>\n",
       "      <td>NaN</td>\n",
       "      <td>['restaurant']</td>\n",
       "      <td>False</td>\n",
       "      <td>False</td>\n",
       "      <td>True</td>\n",
       "      <td>False</td>\n",
       "      <td>False</td>\n",
       "      <td>False</td>\n",
       "    </tr>\n",
       "    <tr>\n",
       "      <th>7</th>\n",
       "      <td>FTX charger</td>\n",
       "      <td>POINT (1129716.0562003471 5705748.624642473)</td>\n",
       "      <td>NaN</td>\n",
       "      <td>['restaurant', 'bar', 'pub', 'fast_food']</td>\n",
       "      <td>True</td>\n",
       "      <td>True</td>\n",
       "      <td>True</td>\n",
       "      <td>False</td>\n",
       "      <td>False</td>\n",
       "      <td>True</td>\n",
       "    </tr>\n",
       "    <tr>\n",
       "      <th>2</th>\n",
       "      <td>FTX charger</td>\n",
       "      <td>POINT (1102783.5299173133 5615673.772552241)</td>\n",
       "      <td>NaN</td>\n",
       "      <td>['restaurant']</td>\n",
       "      <td>False</td>\n",
       "      <td>False</td>\n",
       "      <td>True</td>\n",
       "      <td>False</td>\n",
       "      <td>False</td>\n",
       "      <td>False</td>\n",
       "    </tr>\n",
       "    <tr>\n",
       "      <th>16</th>\n",
       "      <td>FTX charger</td>\n",
       "      <td>POINT (1130024.633828826 5705757.523794186)</td>\n",
       "      <td>NaN</td>\n",
       "      <td>['cafe', 'restaurant', 'bar', 'pub', 'fast_food']</td>\n",
       "      <td>True</td>\n",
       "      <td>True</td>\n",
       "      <td>True</td>\n",
       "      <td>False</td>\n",
       "      <td>True</td>\n",
       "      <td>True</td>\n",
       "    </tr>\n",
       "    <tr>\n",
       "      <th>10</th>\n",
       "      <td>FTX charger</td>\n",
       "      <td>POINT (1102783.5299173133 5615673.772552241)</td>\n",
       "      <td>NaN</td>\n",
       "      <td>['restaurant']</td>\n",
       "      <td>False</td>\n",
       "      <td>False</td>\n",
       "      <td>True</td>\n",
       "      <td>False</td>\n",
       "      <td>False</td>\n",
       "      <td>False</td>\n",
       "    </tr>\n",
       "    <tr>\n",
       "      <th>14</th>\n",
       "      <td>FTX charger</td>\n",
       "      <td>POINT (980821.5618457302 5742355.862570743)</td>\n",
       "      <td>NaN</td>\n",
       "      <td>['restaurant']</td>\n",
       "      <td>False</td>\n",
       "      <td>False</td>\n",
       "      <td>True</td>\n",
       "      <td>False</td>\n",
       "      <td>False</td>\n",
       "      <td>False</td>\n",
       "    </tr>\n",
       "    <tr>\n",
       "      <th>0</th>\n",
       "      <td>FTX charger</td>\n",
       "      <td>POINT (1208707.4763113274 5568513.757297508)</td>\n",
       "      <td>NaN</td>\n",
       "      <td>['cafe', 'fast_food', 'restaurant']</td>\n",
       "      <td>False</td>\n",
       "      <td>True</td>\n",
       "      <td>True</td>\n",
       "      <td>False</td>\n",
       "      <td>True</td>\n",
       "      <td>False</td>\n",
       "    </tr>\n",
       "    <tr>\n",
       "      <th>12</th>\n",
       "      <td>FTX charger</td>\n",
       "      <td>POINT (1045658.4860633644 5712351.211420403)</td>\n",
       "      <td>NaN</td>\n",
       "      <td>[]</td>\n",
       "      <td>False</td>\n",
       "      <td>False</td>\n",
       "      <td>False</td>\n",
       "      <td>False</td>\n",
       "      <td>False</td>\n",
       "      <td>False</td>\n",
       "    </tr>\n",
       "    <tr>\n",
       "      <th>11</th>\n",
       "      <td>FTX charger</td>\n",
       "      <td>POINT (1005078.6354870385 5737026.009804706)</td>\n",
       "      <td>NaN</td>\n",
       "      <td>['restaurant', 'cafe']</td>\n",
       "      <td>False</td>\n",
       "      <td>False</td>\n",
       "      <td>True</td>\n",
       "      <td>False</td>\n",
       "      <td>True</td>\n",
       "      <td>False</td>\n",
       "    </tr>\n",
       "    <tr>\n",
       "      <th>13</th>\n",
       "      <td>FTX charger</td>\n",
       "      <td>POINT (1032640.0055735636 5694526.694155467)</td>\n",
       "      <td>NaN</td>\n",
       "      <td>['cafe', 'restaurant', 'fast_food', 'post_offi...</td>\n",
       "      <td>False</td>\n",
       "      <td>True</td>\n",
       "      <td>True</td>\n",
       "      <td>True</td>\n",
       "      <td>True</td>\n",
       "      <td>False</td>\n",
       "    </tr>\n",
       "    <tr>\n",
       "      <th>6</th>\n",
       "      <td>FTX charger</td>\n",
       "      <td>POINT (1208707.4763113274 5568513.757297508)</td>\n",
       "      <td>NaN</td>\n",
       "      <td>['cafe', 'fast_food', 'restaurant']</td>\n",
       "      <td>False</td>\n",
       "      <td>True</td>\n",
       "      <td>True</td>\n",
       "      <td>False</td>\n",
       "      <td>True</td>\n",
       "      <td>False</td>\n",
       "    </tr>\n",
       "    <tr>\n",
       "      <th>19</th>\n",
       "      <td>FTX charger</td>\n",
       "      <td>POINT (1043868.4686514089 5672279.784383126)</td>\n",
       "      <td>NaN</td>\n",
       "      <td>['restaurant']</td>\n",
       "      <td>False</td>\n",
       "      <td>False</td>\n",
       "      <td>True</td>\n",
       "      <td>False</td>\n",
       "      <td>False</td>\n",
       "      <td>False</td>\n",
       "    </tr>\n",
       "    <tr>\n",
       "      <th>3</th>\n",
       "      <td>FTX charger</td>\n",
       "      <td>POINT (1102788.2053359265 5615666.6928158095)</td>\n",
       "      <td>NaN</td>\n",
       "      <td>['restaurant']</td>\n",
       "      <td>False</td>\n",
       "      <td>False</td>\n",
       "      <td>True</td>\n",
       "      <td>False</td>\n",
       "      <td>False</td>\n",
       "      <td>False</td>\n",
       "    </tr>\n",
       "    <tr>\n",
       "      <th>5</th>\n",
       "      <td>FTX charger</td>\n",
       "      <td>POINT (1208703.9140876222 5568513.1312583275)</td>\n",
       "      <td>NaN</td>\n",
       "      <td>['cafe', 'fast_food', 'restaurant']</td>\n",
       "      <td>False</td>\n",
       "      <td>True</td>\n",
       "      <td>True</td>\n",
       "      <td>False</td>\n",
       "      <td>True</td>\n",
       "      <td>False</td>\n",
       "    </tr>\n",
       "    <tr>\n",
       "      <th>4</th>\n",
       "      <td>FTX charger</td>\n",
       "      <td>POINT (1208703.9140876222 5568513.1312583275)</td>\n",
       "      <td>NaN</td>\n",
       "      <td>['cafe', 'fast_food', 'restaurant']</td>\n",
       "      <td>False</td>\n",
       "      <td>True</td>\n",
       "      <td>True</td>\n",
       "      <td>False</td>\n",
       "      <td>True</td>\n",
       "      <td>False</td>\n",
       "    </tr>\n",
       "    <tr>\n",
       "      <th>15</th>\n",
       "      <td>FTX charger</td>\n",
       "      <td>POINT (1032618.0756338773 5694528.122582084)</td>\n",
       "      <td>NaN</td>\n",
       "      <td>['cafe', 'restaurant', 'fast_food', 'post_offi...</td>\n",
       "      <td>False</td>\n",
       "      <td>True</td>\n",
       "      <td>True</td>\n",
       "      <td>True</td>\n",
       "      <td>True</td>\n",
       "      <td>False</td>\n",
       "    </tr>\n",
       "    <tr>\n",
       "      <th>8</th>\n",
       "      <td>FTX charger</td>\n",
       "      <td>POINT (1102556.1041976225 5615637.11531034)</td>\n",
       "      <td>NaN</td>\n",
       "      <td>['restaurant']</td>\n",
       "      <td>False</td>\n",
       "      <td>False</td>\n",
       "      <td>True</td>\n",
       "      <td>False</td>\n",
       "      <td>False</td>\n",
       "      <td>False</td>\n",
       "    </tr>\n",
       "    <tr>\n",
       "      <th>17</th>\n",
       "      <td>FTX charger</td>\n",
       "      <td>POINT (1468150.3513464928 5114137.608482699)</td>\n",
       "      <td>NaN</td>\n",
       "      <td>[]</td>\n",
       "      <td>False</td>\n",
       "      <td>False</td>\n",
       "      <td>False</td>\n",
       "      <td>False</td>\n",
       "      <td>False</td>\n",
       "      <td>False</td>\n",
       "    </tr>\n",
       "  </tbody>\n",
       "</table>\n",
       "</div>"
      ],
      "text/plain": [
       "        amenity                                       geometry  name  \\\n",
       "9   FTX charger     POINT (1208351.6992187523 5568406.0791937)   NaN   \n",
       "18  FTX charger   POINT (1523315.1702870626 5086037.596075952)   NaN   \n",
       "1   FTX charger  POINT (1102788.2053359265 5615666.6928158095)   NaN   \n",
       "7   FTX charger   POINT (1129716.0562003471 5705748.624642473)   NaN   \n",
       "2   FTX charger   POINT (1102783.5299173133 5615673.772552241)   NaN   \n",
       "16  FTX charger    POINT (1130024.633828826 5705757.523794186)   NaN   \n",
       "10  FTX charger   POINT (1102783.5299173133 5615673.772552241)   NaN   \n",
       "14  FTX charger    POINT (980821.5618457302 5742355.862570743)   NaN   \n",
       "0   FTX charger   POINT (1208707.4763113274 5568513.757297508)   NaN   \n",
       "12  FTX charger   POINT (1045658.4860633644 5712351.211420403)   NaN   \n",
       "11  FTX charger   POINT (1005078.6354870385 5737026.009804706)   NaN   \n",
       "13  FTX charger   POINT (1032640.0055735636 5694526.694155467)   NaN   \n",
       "6   FTX charger   POINT (1208707.4763113274 5568513.757297508)   NaN   \n",
       "19  FTX charger   POINT (1043868.4686514089 5672279.784383126)   NaN   \n",
       "3   FTX charger  POINT (1102788.2053359265 5615666.6928158095)   NaN   \n",
       "5   FTX charger  POINT (1208703.9140876222 5568513.1312583275)   NaN   \n",
       "4   FTX charger  POINT (1208703.9140876222 5568513.1312583275)   NaN   \n",
       "15  FTX charger   POINT (1032618.0756338773 5694528.122582084)   NaN   \n",
       "8   FTX charger    POINT (1102556.1041976225 5615637.11531034)   NaN   \n",
       "17  FTX charger   POINT (1468150.3513464928 5114137.608482699)   NaN   \n",
       "\n",
       "                                     nearby_amenities    pub  fast_food  \\\n",
       "9                 ['cafe', 'fast_food', 'restaurant']  False       True   \n",
       "18                                     ['restaurant']  False      False   \n",
       "1                                      ['restaurant']  False      False   \n",
       "7           ['restaurant', 'bar', 'pub', 'fast_food']   True       True   \n",
       "2                                      ['restaurant']  False      False   \n",
       "16  ['cafe', 'restaurant', 'bar', 'pub', 'fast_food']   True       True   \n",
       "10                                     ['restaurant']  False      False   \n",
       "14                                     ['restaurant']  False      False   \n",
       "0                 ['cafe', 'fast_food', 'restaurant']  False       True   \n",
       "12                                                 []  False      False   \n",
       "11                             ['restaurant', 'cafe']  False      False   \n",
       "13  ['cafe', 'restaurant', 'fast_food', 'post_offi...  False       True   \n",
       "6                 ['cafe', 'fast_food', 'restaurant']  False       True   \n",
       "19                                     ['restaurant']  False      False   \n",
       "3                                      ['restaurant']  False      False   \n",
       "5                 ['cafe', 'fast_food', 'restaurant']  False       True   \n",
       "4                 ['cafe', 'fast_food', 'restaurant']  False       True   \n",
       "15  ['cafe', 'restaurant', 'fast_food', 'post_offi...  False       True   \n",
       "8                                      ['restaurant']  False      False   \n",
       "17                                                 []  False      False   \n",
       "\n",
       "    restaurant  post_office   cafe    bar  \n",
       "9         True        False   True  False  \n",
       "18        True        False  False  False  \n",
       "1         True        False  False  False  \n",
       "7         True        False  False   True  \n",
       "2         True        False  False  False  \n",
       "16        True        False   True   True  \n",
       "10        True        False  False  False  \n",
       "14        True        False  False  False  \n",
       "0         True        False   True  False  \n",
       "12       False        False  False  False  \n",
       "11        True        False   True  False  \n",
       "13        True         True   True  False  \n",
       "6         True        False   True  False  \n",
       "19        True        False  False  False  \n",
       "3         True        False  False  False  \n",
       "5         True        False   True  False  \n",
       "4         True        False   True  False  \n",
       "15        True         True   True  False  \n",
       "8         True        False  False  False  \n",
       "17       False        False  False  False  "
      ]
     },
     "execution_count": 28,
     "metadata": {},
     "output_type": "execute_result"
    }
   ],
   "source": [
    "prova2 = pd.read_csv('/Users/paoloemiliogrande/Desktop/BIG DATA/chargers_with_all_amenities_booleans.csv')\n",
    "prova2.sample(20)"
   ]
  }
 ],
 "metadata": {
  "kernelspec": {
   "display_name": "Python 3",
   "language": "python",
   "name": "python3"
  },
  "language_info": {
   "codemirror_mode": {
    "name": "ipython",
    "version": 3
   },
   "file_extension": ".py",
   "mimetype": "text/x-python",
   "name": "python",
   "nbconvert_exporter": "python",
   "pygments_lexer": "ipython3",
   "version": "3.12.0"
  }
 },
 "nbformat": 4,
 "nbformat_minor": 2
}
